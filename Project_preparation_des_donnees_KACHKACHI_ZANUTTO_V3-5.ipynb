{
  "cells": [
    {
      "cell_type": "markdown",
      "source": [
        "#Qualité et préparation de donnée: détection des doublons"
      ],
      "metadata": {
        "id": "huybOGNqtute"
      },
      "id": "huybOGNqtute"
    },
    {
      "cell_type": "markdown",
      "source": [
        "L'objectif de ce projet est de détecter les enregistrements qui représentent la même personne. L'output attendu doit être une liste de tuple de la forme (record_id1,record_id2) où 'record_idx' est l'identifiant de l'enregistrement.\n"
      ],
      "metadata": {
        "id": "OqbY6KvE1a5a"
      },
      "id": "OqbY6KvE1a5a"
    },
    {
      "cell_type": "markdown",
      "source": [
        "##Introduction\n",
        "Pour cela nous allons appliquer des méthodes de détection de doublon. \n",
        "\n",
        "La détection des doublons est un problème concret avec des causes diverses comme des saisies multiples dans une même base de données (doublons intra-source) ou l'intégration de sources différentes de structures différentes (doublons inter-sources).\n",
        "\n",
        "Pour ce projet, nous utiliserons un jeu de données contenant des informations sur des étudiants (fichier etudiant.csv). Il contient 24 940 enregistrements dont chacun a 9 attributs: le prénom et le nom ('given_name', 'surname') les information liée à l'adresse ('street_number', 'address_1', 'address_2', 'suburb', 'postcode', 'state'), la date de naissance ('date_of_birth'), le numero de securité sociale ('soc_sec_id') et le 'id record' qui est utilisé comme un identifiant pour les enregistrements. \n",
        "\n",
        "Le déroulé du projet se fera en 4 étapes suivantes:\n",
        "- Exploration et nettoyage des données\n",
        "- Méthodologie adoptée et argumentation\n",
        "- Détection des doublons avec deux approches testées\n",
        "- Comparaison des deux approches et conclusion\n"
      ],
      "metadata": {
        "id": "UgwBWetmuHAG"
      },
      "id": "UgwBWetmuHAG"
    },
    {
      "cell_type": "code",
      "execution_count": null,
      "id": "c173a57a",
      "metadata": {
        "id": "c173a57a"
      },
      "outputs": [],
      "source": [
        "# Imports des différentes bibliothèques nécessaires dont nltk\n",
        "import pandas as pd\n",
        "import numpy as np\n",
        "import nltk\n",
        "import datetime as dt\n",
        "import io\n",
        "import matplotlib.pyplot as plt\n",
        "import time"
      ]
    },
    {
      "cell_type": "markdown",
      "source": [
        "Commandes spécifiques à partir du poste de Slim pour charger le fichier etudiants.csv"
      ],
      "metadata": {
        "id": "sHV5R2auy69K"
      },
      "id": "sHV5R2auy69K"
    },
    {
      "cell_type": "code",
      "source": [
        "from google.colab import drive\n",
        "drive.mount(\"/content/drive\", force_remount=True)"
      ],
      "metadata": {
        "colab": {
          "base_uri": "https://localhost:8080/"
        },
        "id": "67nhdUOXyau2",
        "outputId": "aec43021-5860-4afa-d4e9-81ef6e3a4c0e"
      },
      "id": "67nhdUOXyau2",
      "execution_count": null,
      "outputs": [
        {
          "output_type": "stream",
          "name": "stdout",
          "text": [
            "Mounted at /content/drive\n"
          ]
        }
      ]
    },
    {
      "cell_type": "markdown",
      "source": [],
      "metadata": {
        "id": "wzgdnZTkzNMk"
      },
      "id": "wzgdnZTkzNMk"
    },
    {
      "cell_type": "code",
      "source": [
        "%cd \"/content/drive/MyDrive/Colab Notebooks/Data cleaning\"\n",
        "#%ls -la"
      ],
      "metadata": {
        "id": "6dHTEaHpxOG3",
        "colab": {
          "base_uri": "https://localhost:8080/"
        },
        "outputId": "60c6707b-a27f-4441-cc44-d2bee3822117"
      },
      "id": "6dHTEaHpxOG3",
      "execution_count": null,
      "outputs": [
        {
          "output_type": "stream",
          "name": "stdout",
          "text": [
            "/content/drive/.shortcut-targets-by-id/1fAZBXePmNsi1wrSml72Cx-7IKt9yFqhK/Data cleaning\n"
          ]
        }
      ]
    },
    {
      "cell_type": "code",
      "source": [
        "df= pd.read_csv(\"./etudiant.csv\")"
      ],
      "metadata": {
        "id": "GhpQdoxAyzVw"
      },
      "id": "GhpQdoxAyzVw",
      "execution_count": null,
      "outputs": []
    },
    {
      "cell_type": "markdown",
      "source": [
        "Commandes spécifiques à partir du poste de Sara pour charger le fichier etudiants.csv."
      ],
      "metadata": {
        "id": "6wYBURe2zCmO"
      },
      "id": "6wYBURe2zCmO"
    },
    {
      "cell_type": "code",
      "source": [
        "# Se connecter aux données\n",
        "from google.colab import files\n",
        "uploaded = files.upload()"
      ],
      "metadata": {
        "id": "YocP9hESutXC",
        "colab": {
          "base_uri": "https://localhost:8080/",
          "height": 74
        },
        "outputId": "1ab84f6c-df5d-4446-b7fa-719a47504e80"
      },
      "id": "YocP9hESutXC",
      "execution_count": null,
      "outputs": [
        {
          "output_type": "display_data",
          "data": {
            "text/plain": [
              "<IPython.core.display.HTML object>"
            ],
            "text/html": [
              "\n",
              "     <input type=\"file\" id=\"files-c874d570-bbdf-43b4-99aa-a3828e9ebb67\" name=\"files[]\" multiple disabled\n",
              "        style=\"border:none\" />\n",
              "     <output id=\"result-c874d570-bbdf-43b4-99aa-a3828e9ebb67\">\n",
              "      Upload widget is only available when the cell has been executed in the\n",
              "      current browser session. Please rerun this cell to enable.\n",
              "      </output>\n",
              "      <script>// Copyright 2017 Google LLC\n",
              "//\n",
              "// Licensed under the Apache License, Version 2.0 (the \"License\");\n",
              "// you may not use this file except in compliance with the License.\n",
              "// You may obtain a copy of the License at\n",
              "//\n",
              "//      http://www.apache.org/licenses/LICENSE-2.0\n",
              "//\n",
              "// Unless required by applicable law or agreed to in writing, software\n",
              "// distributed under the License is distributed on an \"AS IS\" BASIS,\n",
              "// WITHOUT WARRANTIES OR CONDITIONS OF ANY KIND, either express or implied.\n",
              "// See the License for the specific language governing permissions and\n",
              "// limitations under the License.\n",
              "\n",
              "/**\n",
              " * @fileoverview Helpers for google.colab Python module.\n",
              " */\n",
              "(function(scope) {\n",
              "function span(text, styleAttributes = {}) {\n",
              "  const element = document.createElement('span');\n",
              "  element.textContent = text;\n",
              "  for (const key of Object.keys(styleAttributes)) {\n",
              "    element.style[key] = styleAttributes[key];\n",
              "  }\n",
              "  return element;\n",
              "}\n",
              "\n",
              "// Max number of bytes which will be uploaded at a time.\n",
              "const MAX_PAYLOAD_SIZE = 100 * 1024;\n",
              "\n",
              "function _uploadFiles(inputId, outputId) {\n",
              "  const steps = uploadFilesStep(inputId, outputId);\n",
              "  const outputElement = document.getElementById(outputId);\n",
              "  // Cache steps on the outputElement to make it available for the next call\n",
              "  // to uploadFilesContinue from Python.\n",
              "  outputElement.steps = steps;\n",
              "\n",
              "  return _uploadFilesContinue(outputId);\n",
              "}\n",
              "\n",
              "// This is roughly an async generator (not supported in the browser yet),\n",
              "// where there are multiple asynchronous steps and the Python side is going\n",
              "// to poll for completion of each step.\n",
              "// This uses a Promise to block the python side on completion of each step,\n",
              "// then passes the result of the previous step as the input to the next step.\n",
              "function _uploadFilesContinue(outputId) {\n",
              "  const outputElement = document.getElementById(outputId);\n",
              "  const steps = outputElement.steps;\n",
              "\n",
              "  const next = steps.next(outputElement.lastPromiseValue);\n",
              "  return Promise.resolve(next.value.promise).then((value) => {\n",
              "    // Cache the last promise value to make it available to the next\n",
              "    // step of the generator.\n",
              "    outputElement.lastPromiseValue = value;\n",
              "    return next.value.response;\n",
              "  });\n",
              "}\n",
              "\n",
              "/**\n",
              " * Generator function which is called between each async step of the upload\n",
              " * process.\n",
              " * @param {string} inputId Element ID of the input file picker element.\n",
              " * @param {string} outputId Element ID of the output display.\n",
              " * @return {!Iterable<!Object>} Iterable of next steps.\n",
              " */\n",
              "function* uploadFilesStep(inputId, outputId) {\n",
              "  const inputElement = document.getElementById(inputId);\n",
              "  inputElement.disabled = false;\n",
              "\n",
              "  const outputElement = document.getElementById(outputId);\n",
              "  outputElement.innerHTML = '';\n",
              "\n",
              "  const pickedPromise = new Promise((resolve) => {\n",
              "    inputElement.addEventListener('change', (e) => {\n",
              "      resolve(e.target.files);\n",
              "    });\n",
              "  });\n",
              "\n",
              "  const cancel = document.createElement('button');\n",
              "  inputElement.parentElement.appendChild(cancel);\n",
              "  cancel.textContent = 'Cancel upload';\n",
              "  const cancelPromise = new Promise((resolve) => {\n",
              "    cancel.onclick = () => {\n",
              "      resolve(null);\n",
              "    };\n",
              "  });\n",
              "\n",
              "  // Wait for the user to pick the files.\n",
              "  const files = yield {\n",
              "    promise: Promise.race([pickedPromise, cancelPromise]),\n",
              "    response: {\n",
              "      action: 'starting',\n",
              "    }\n",
              "  };\n",
              "\n",
              "  cancel.remove();\n",
              "\n",
              "  // Disable the input element since further picks are not allowed.\n",
              "  inputElement.disabled = true;\n",
              "\n",
              "  if (!files) {\n",
              "    return {\n",
              "      response: {\n",
              "        action: 'complete',\n",
              "      }\n",
              "    };\n",
              "  }\n",
              "\n",
              "  for (const file of files) {\n",
              "    const li = document.createElement('li');\n",
              "    li.append(span(file.name, {fontWeight: 'bold'}));\n",
              "    li.append(span(\n",
              "        `(${file.type || 'n/a'}) - ${file.size} bytes, ` +\n",
              "        `last modified: ${\n",
              "            file.lastModifiedDate ? file.lastModifiedDate.toLocaleDateString() :\n",
              "                                    'n/a'} - `));\n",
              "    const percent = span('0% done');\n",
              "    li.appendChild(percent);\n",
              "\n",
              "    outputElement.appendChild(li);\n",
              "\n",
              "    const fileDataPromise = new Promise((resolve) => {\n",
              "      const reader = new FileReader();\n",
              "      reader.onload = (e) => {\n",
              "        resolve(e.target.result);\n",
              "      };\n",
              "      reader.readAsArrayBuffer(file);\n",
              "    });\n",
              "    // Wait for the data to be ready.\n",
              "    let fileData = yield {\n",
              "      promise: fileDataPromise,\n",
              "      response: {\n",
              "        action: 'continue',\n",
              "      }\n",
              "    };\n",
              "\n",
              "    // Use a chunked sending to avoid message size limits. See b/62115660.\n",
              "    let position = 0;\n",
              "    do {\n",
              "      const length = Math.min(fileData.byteLength - position, MAX_PAYLOAD_SIZE);\n",
              "      const chunk = new Uint8Array(fileData, position, length);\n",
              "      position += length;\n",
              "\n",
              "      const base64 = btoa(String.fromCharCode.apply(null, chunk));\n",
              "      yield {\n",
              "        response: {\n",
              "          action: 'append',\n",
              "          file: file.name,\n",
              "          data: base64,\n",
              "        },\n",
              "      };\n",
              "\n",
              "      let percentDone = fileData.byteLength === 0 ?\n",
              "          100 :\n",
              "          Math.round((position / fileData.byteLength) * 100);\n",
              "      percent.textContent = `${percentDone}% done`;\n",
              "\n",
              "    } while (position < fileData.byteLength);\n",
              "  }\n",
              "\n",
              "  // All done.\n",
              "  yield {\n",
              "    response: {\n",
              "      action: 'complete',\n",
              "    }\n",
              "  };\n",
              "}\n",
              "\n",
              "scope.google = scope.google || {};\n",
              "scope.google.colab = scope.google.colab || {};\n",
              "scope.google.colab._files = {\n",
              "  _uploadFiles,\n",
              "  _uploadFilesContinue,\n",
              "};\n",
              "})(self);\n",
              "</script> "
            ]
          },
          "metadata": {}
        },
        {
          "output_type": "stream",
          "name": "stdout",
          "text": [
            "Saving etudiant.csv to etudiant.csv\n"
          ]
        }
      ]
    },
    {
      "cell_type": "code",
      "source": [
        "# Enregistrer les données dans un dataframe pandas\n",
        "df = pd.read_csv(io.BytesIO(uploaded['etudiant.csv']))"
      ],
      "metadata": {
        "id": "phQgbYHquxN9"
      },
      "id": "phQgbYHquxN9",
      "execution_count": null,
      "outputs": []
    },
    {
      "cell_type": "markdown",
      "id": "1ac5a2ab",
      "metadata": {
        "id": "1ac5a2ab"
      },
      "source": [
        "##Exploration et nettoyage des données\n",
        "\n",
        "Nous commençons l'exploration des données, afin de mieux comprendre leur structure et la quantité des valeurs (valeurs nulles, mal saisies etc.). Cette étape est indispensable pour fixer la méthodologie générale (attribut(s) le(s) plus approprié(s) pour le blocage, méthode de dédection des doublons selon la nature des attributs,attributs présentant des pièges comme des valeurs nulles ou des valeurs anormales etc.).\n",
        "\n",
        "Les principaux enseignements sont présentés ci-dessous / le code ci-après présente les principales étapes de ces analyses.\n",
        "\n",
        "En ce qui concerne les **valeurs nulles**, à l'exception des attributs code postal, numéro de sécurité sociale et 'id record', tous les autres ont des valeurs nulles.\n",
        "Par exemple 'adresse_2' est l'attribut qui présente la majorité des valeurs nulles (17%), probablement parce qu'il ne s'agit pas d'un champ obligatoire. Les autres attributs ont un taux de valeurs nulles compris entre 2% et 6%. \n",
        "\n",
        "Si nous devions retirer tous les enregistements avec au moins une valeur nulle, le jeu de données seraient réduit de ~1/3. Ce qui n'est pas souhaitable.\n",
        "\n",
        "Sinon au-delà **des noms, prénoms, adresses, d'autres attributs qui présentent des erreurs de saisies, on constate également que pour une personne 'soc_sec_id' ou ' date_of_birth' présentent des anomalies** (différences entre les unités pour certains soc_sec_id, des valeurs différentes pour 'date-of_birth'). En revanche nous avons pu constaté que les plages de valeurs des années, mois et jours de l'attribut 'date_of_birth' étaient corrects.\n",
        "\n",
        "En conclusion, il nous faudra trouver un contournement pour parcourir un maximum de lignes en raison du nombre de cellulles à nulle; et prendre en compte qu'aucun attribut n'est totalement fiable pour la méthode de blocage.\n",
        "\n",
        "En termes de **préparation des données** pour les parties suivantes du processus de détection, nous extrayons l'année dont nous aurons besoin par la suite. "
      ]
    },
    {
      "cell_type": "code",
      "execution_count": null,
      "id": "91c97aa4",
      "metadata": {
        "colab": {
          "base_uri": "https://localhost:8080/",
          "height": 357
        },
        "id": "91c97aa4",
        "outputId": "ad361850-fab7-4d3d-bfac-fb8dd325d67c"
      },
      "outputs": [
        {
          "output_type": "execute_result",
          "data": {
            "text/plain": [
              "  given_name      surname  street_number        address_1        address_2  \\\n",
              "0   matthwew        apted           18.0  atherton srteet  currumb in hill   \n",
              "1    william       badger            NaN    dwyer s treet          glenlee   \n",
              "2     connor       bailke          186.0     lambie place              NaN   \n",
              "3    kaitlin  goldsworthy           54.0              NaN              NaN   \n",
              "4     jasmyn         lowe           48.0     toohey place    grand ecntral   \n",
              "\n",
              "             suburb  postcode state  date_of_birth  soc_sec_id id record  \n",
              "0    port macquarie      3183   vic     19590825.0     9425976       B_0  \n",
              "1  west lakes shore      3291   nsw     19001210.0     4656608       B_1  \n",
              "2      port lincoln      7303   qld     19670529.0     4702335       B_2  \n",
              "3          thirroul      2035   nsw     19640517.0     9127277       B_3  \n",
              "4            bicton      3085   nsw     19320918.0     1430128       B_4  "
            ],
            "text/html": [
              "\n",
              "  <div id=\"df-035ade35-9c94-489d-a247-ba54008a02e5\">\n",
              "    <div class=\"colab-df-container\">\n",
              "      <div>\n",
              "<style scoped>\n",
              "    .dataframe tbody tr th:only-of-type {\n",
              "        vertical-align: middle;\n",
              "    }\n",
              "\n",
              "    .dataframe tbody tr th {\n",
              "        vertical-align: top;\n",
              "    }\n",
              "\n",
              "    .dataframe thead th {\n",
              "        text-align: right;\n",
              "    }\n",
              "</style>\n",
              "<table border=\"1\" class=\"dataframe\">\n",
              "  <thead>\n",
              "    <tr style=\"text-align: right;\">\n",
              "      <th></th>\n",
              "      <th>given_name</th>\n",
              "      <th>surname</th>\n",
              "      <th>street_number</th>\n",
              "      <th>address_1</th>\n",
              "      <th>address_2</th>\n",
              "      <th>suburb</th>\n",
              "      <th>postcode</th>\n",
              "      <th>state</th>\n",
              "      <th>date_of_birth</th>\n",
              "      <th>soc_sec_id</th>\n",
              "      <th>id record</th>\n",
              "    </tr>\n",
              "  </thead>\n",
              "  <tbody>\n",
              "    <tr>\n",
              "      <th>0</th>\n",
              "      <td>matthwew</td>\n",
              "      <td>apted</td>\n",
              "      <td>18.0</td>\n",
              "      <td>atherton srteet</td>\n",
              "      <td>currumb in hill</td>\n",
              "      <td>port macquarie</td>\n",
              "      <td>3183</td>\n",
              "      <td>vic</td>\n",
              "      <td>19590825.0</td>\n",
              "      <td>9425976</td>\n",
              "      <td>B_0</td>\n",
              "    </tr>\n",
              "    <tr>\n",
              "      <th>1</th>\n",
              "      <td>william</td>\n",
              "      <td>badger</td>\n",
              "      <td>NaN</td>\n",
              "      <td>dwyer s treet</td>\n",
              "      <td>glenlee</td>\n",
              "      <td>west lakes shore</td>\n",
              "      <td>3291</td>\n",
              "      <td>nsw</td>\n",
              "      <td>19001210.0</td>\n",
              "      <td>4656608</td>\n",
              "      <td>B_1</td>\n",
              "    </tr>\n",
              "    <tr>\n",
              "      <th>2</th>\n",
              "      <td>connor</td>\n",
              "      <td>bailke</td>\n",
              "      <td>186.0</td>\n",
              "      <td>lambie place</td>\n",
              "      <td>NaN</td>\n",
              "      <td>port lincoln</td>\n",
              "      <td>7303</td>\n",
              "      <td>qld</td>\n",
              "      <td>19670529.0</td>\n",
              "      <td>4702335</td>\n",
              "      <td>B_2</td>\n",
              "    </tr>\n",
              "    <tr>\n",
              "      <th>3</th>\n",
              "      <td>kaitlin</td>\n",
              "      <td>goldsworthy</td>\n",
              "      <td>54.0</td>\n",
              "      <td>NaN</td>\n",
              "      <td>NaN</td>\n",
              "      <td>thirroul</td>\n",
              "      <td>2035</td>\n",
              "      <td>nsw</td>\n",
              "      <td>19640517.0</td>\n",
              "      <td>9127277</td>\n",
              "      <td>B_3</td>\n",
              "    </tr>\n",
              "    <tr>\n",
              "      <th>4</th>\n",
              "      <td>jasmyn</td>\n",
              "      <td>lowe</td>\n",
              "      <td>48.0</td>\n",
              "      <td>toohey place</td>\n",
              "      <td>grand ecntral</td>\n",
              "      <td>bicton</td>\n",
              "      <td>3085</td>\n",
              "      <td>nsw</td>\n",
              "      <td>19320918.0</td>\n",
              "      <td>1430128</td>\n",
              "      <td>B_4</td>\n",
              "    </tr>\n",
              "  </tbody>\n",
              "</table>\n",
              "</div>\n",
              "      <button class=\"colab-df-convert\" onclick=\"convertToInteractive('df-035ade35-9c94-489d-a247-ba54008a02e5')\"\n",
              "              title=\"Convert this dataframe to an interactive table.\"\n",
              "              style=\"display:none;\">\n",
              "        \n",
              "  <svg xmlns=\"http://www.w3.org/2000/svg\" height=\"24px\"viewBox=\"0 0 24 24\"\n",
              "       width=\"24px\">\n",
              "    <path d=\"M0 0h24v24H0V0z\" fill=\"none\"/>\n",
              "    <path d=\"M18.56 5.44l.94 2.06.94-2.06 2.06-.94-2.06-.94-.94-2.06-.94 2.06-2.06.94zm-11 1L8.5 8.5l.94-2.06 2.06-.94-2.06-.94L8.5 2.5l-.94 2.06-2.06.94zm10 10l.94 2.06.94-2.06 2.06-.94-2.06-.94-.94-2.06-.94 2.06-2.06.94z\"/><path d=\"M17.41 7.96l-1.37-1.37c-.4-.4-.92-.59-1.43-.59-.52 0-1.04.2-1.43.59L10.3 9.45l-7.72 7.72c-.78.78-.78 2.05 0 2.83L4 21.41c.39.39.9.59 1.41.59.51 0 1.02-.2 1.41-.59l7.78-7.78 2.81-2.81c.8-.78.8-2.07 0-2.86zM5.41 20L4 18.59l7.72-7.72 1.47 1.35L5.41 20z\"/>\n",
              "  </svg>\n",
              "      </button>\n",
              "      \n",
              "  <style>\n",
              "    .colab-df-container {\n",
              "      display:flex;\n",
              "      flex-wrap:wrap;\n",
              "      gap: 12px;\n",
              "    }\n",
              "\n",
              "    .colab-df-convert {\n",
              "      background-color: #E8F0FE;\n",
              "      border: none;\n",
              "      border-radius: 50%;\n",
              "      cursor: pointer;\n",
              "      display: none;\n",
              "      fill: #1967D2;\n",
              "      height: 32px;\n",
              "      padding: 0 0 0 0;\n",
              "      width: 32px;\n",
              "    }\n",
              "\n",
              "    .colab-df-convert:hover {\n",
              "      background-color: #E2EBFA;\n",
              "      box-shadow: 0px 1px 2px rgba(60, 64, 67, 0.3), 0px 1px 3px 1px rgba(60, 64, 67, 0.15);\n",
              "      fill: #174EA6;\n",
              "    }\n",
              "\n",
              "    [theme=dark] .colab-df-convert {\n",
              "      background-color: #3B4455;\n",
              "      fill: #D2E3FC;\n",
              "    }\n",
              "\n",
              "    [theme=dark] .colab-df-convert:hover {\n",
              "      background-color: #434B5C;\n",
              "      box-shadow: 0px 1px 3px 1px rgba(0, 0, 0, 0.15);\n",
              "      filter: drop-shadow(0px 1px 2px rgba(0, 0, 0, 0.3));\n",
              "      fill: #FFFFFF;\n",
              "    }\n",
              "  </style>\n",
              "\n",
              "      <script>\n",
              "        const buttonEl =\n",
              "          document.querySelector('#df-035ade35-9c94-489d-a247-ba54008a02e5 button.colab-df-convert');\n",
              "        buttonEl.style.display =\n",
              "          google.colab.kernel.accessAllowed ? 'block' : 'none';\n",
              "\n",
              "        async function convertToInteractive(key) {\n",
              "          const element = document.querySelector('#df-035ade35-9c94-489d-a247-ba54008a02e5');\n",
              "          const dataTable =\n",
              "            await google.colab.kernel.invokeFunction('convertToInteractive',\n",
              "                                                     [key], {});\n",
              "          if (!dataTable) return;\n",
              "\n",
              "          const docLinkHtml = 'Like what you see? Visit the ' +\n",
              "            '<a target=\"_blank\" href=https://colab.research.google.com/notebooks/data_table.ipynb>data table notebook</a>'\n",
              "            + ' to learn more about interactive tables.';\n",
              "          element.innerHTML = '';\n",
              "          dataTable['output_type'] = 'display_data';\n",
              "          await google.colab.output.renderOutput(dataTable, element);\n",
              "          const docLink = document.createElement('div');\n",
              "          docLink.innerHTML = docLinkHtml;\n",
              "          element.appendChild(docLink);\n",
              "        }\n",
              "      </script>\n",
              "    </div>\n",
              "  </div>\n",
              "  "
            ]
          },
          "metadata": {},
          "execution_count": 4
        }
      ],
      "source": [
        "# Vérifier les premières lignes du dataframe\n",
        "df.head()"
      ]
    },
    {
      "cell_type": "code",
      "execution_count": null,
      "id": "57a6dfb9",
      "metadata": {
        "colab": {
          "base_uri": "https://localhost:8080/"
        },
        "id": "57a6dfb9",
        "outputId": "ac767a78-5c84-49da-8b52-848f1b2199d2"
      },
      "outputs": [
        {
          "output_type": "stream",
          "name": "stdout",
          "text": [
            "<class 'pandas.core.frame.DataFrame'>\n",
            "RangeIndex: 24940 entries, 0 to 24939\n",
            "Data columns (total 11 columns):\n",
            " #   Column         Non-Null Count  Dtype  \n",
            "---  ------         --------------  -----  \n",
            " 0   given_name     23752 non-null  object \n",
            " 1   surname        24412 non-null  object \n",
            " 2   street_number  23482 non-null  float64\n",
            " 3   address_1      23878 non-null  object \n",
            " 4   address_2      20698 non-null  object \n",
            " 5   suburb         24408 non-null  object \n",
            " 6   postcode       24940 non-null  int64  \n",
            " 7   state          24414 non-null  object \n",
            " 8   date_of_birth  23932 non-null  float64\n",
            " 9   soc_sec_id     24940 non-null  int64  \n",
            " 10  id record      24940 non-null  object \n",
            "dtypes: float64(2), int64(2), object(7)\n",
            "memory usage: 2.1+ MB\n"
          ]
        }
      ],
      "source": [
        "# Vérifier les attributs et le type de données pour chaque attribut\n",
        "df.info()\n",
        "# Nous devons modifier le type de données des dates de naissance pour pouvoir les manipuler"
      ]
    },
    {
      "cell_type": "code",
      "execution_count": null,
      "id": "b0e06618",
      "metadata": {
        "id": "b0e06618"
      },
      "outputs": [],
      "source": [
        "# Transformer le type de données de la date de naissance\n",
        "df['date_of_birth'] = pd.to_datetime(df['date_of_birth'], format='%Y%m%d', errors='coerce')"
      ]
    },
    {
      "cell_type": "code",
      "execution_count": null,
      "id": "417bf35e",
      "metadata": {
        "colab": {
          "base_uri": "https://localhost:8080/",
          "height": 35
        },
        "id": "417bf35e",
        "outputId": "7baaaa9e-b75d-4cbf-b74c-31944302b08a"
      },
      "outputs": [
        {
          "output_type": "execute_result",
          "data": {
            "text/plain": [
              "'The date range is from 1900-01-12 00:00:00 to 1999-12-24 00:00:00'"
            ],
            "application/vnd.google.colaboratory.intrinsic+json": {
              "type": "string"
            }
          },
          "metadata": {},
          "execution_count": 7
        }
      ],
      "source": [
        "# Vérifier si les dates de naissance ont un sens ou s'il y a des anomalies\n",
        "f\"The date range is from {df['date_of_birth'].min()} to {df['date_of_birth'].max()}\""
      ]
    },
    {
      "cell_type": "code",
      "execution_count": null,
      "id": "fc5cb0a1",
      "metadata": {
        "id": "fc5cb0a1"
      },
      "outputs": [],
      "source": [
        "# Ajouter une colonne avec l'année de naissance seulement # nous en aurons besoin pour la méthode de blocking\n",
        "df['year_of_birth'] = df['date_of_birth'].dt.strftime('%Y').astype(float) # nécessité d'utiliser 'float' car il y des valeurs nulles\n",
        "# Transformer de 'datetime' a 'date'\n",
        "df['date_of_birth']  = df['date_of_birth'].dt.date"
      ]
    },
    {
      "cell_type": "code",
      "source": [
        "# Visualiser le dataframe modifié\n",
        "df.head()"
      ],
      "metadata": {
        "colab": {
          "base_uri": "https://localhost:8080/",
          "height": 357
        },
        "id": "KunVFUJSzH0_",
        "outputId": "89ab3395-0e1d-46d7-8583-843da71a0f59"
      },
      "id": "KunVFUJSzH0_",
      "execution_count": null,
      "outputs": [
        {
          "output_type": "execute_result",
          "data": {
            "text/plain": [
              "  given_name      surname  street_number        address_1        address_2  \\\n",
              "0   matthwew        apted           18.0  atherton srteet  currumb in hill   \n",
              "1    william       badger            NaN    dwyer s treet          glenlee   \n",
              "2     connor       bailke          186.0     lambie place              NaN   \n",
              "3    kaitlin  goldsworthy           54.0              NaN              NaN   \n",
              "4     jasmyn         lowe           48.0     toohey place    grand ecntral   \n",
              "\n",
              "             suburb  postcode state date_of_birth  soc_sec_id id record  \\\n",
              "0    port macquarie      3183   vic    1959-08-25     9425976       B_0   \n",
              "1  west lakes shore      3291   nsw    1900-12-10     4656608       B_1   \n",
              "2      port lincoln      7303   qld    1967-05-29     4702335       B_2   \n",
              "3          thirroul      2035   nsw    1964-05-17     9127277       B_3   \n",
              "4            bicton      3085   nsw    1932-09-18     1430128       B_4   \n",
              "\n",
              "   year_of_birth  \n",
              "0         1959.0  \n",
              "1         1900.0  \n",
              "2         1967.0  \n",
              "3         1964.0  \n",
              "4         1932.0  "
            ],
            "text/html": [
              "\n",
              "  <div id=\"df-b8666d0d-108b-42ab-85a7-75390cbb8a8d\">\n",
              "    <div class=\"colab-df-container\">\n",
              "      <div>\n",
              "<style scoped>\n",
              "    .dataframe tbody tr th:only-of-type {\n",
              "        vertical-align: middle;\n",
              "    }\n",
              "\n",
              "    .dataframe tbody tr th {\n",
              "        vertical-align: top;\n",
              "    }\n",
              "\n",
              "    .dataframe thead th {\n",
              "        text-align: right;\n",
              "    }\n",
              "</style>\n",
              "<table border=\"1\" class=\"dataframe\">\n",
              "  <thead>\n",
              "    <tr style=\"text-align: right;\">\n",
              "      <th></th>\n",
              "      <th>given_name</th>\n",
              "      <th>surname</th>\n",
              "      <th>street_number</th>\n",
              "      <th>address_1</th>\n",
              "      <th>address_2</th>\n",
              "      <th>suburb</th>\n",
              "      <th>postcode</th>\n",
              "      <th>state</th>\n",
              "      <th>date_of_birth</th>\n",
              "      <th>soc_sec_id</th>\n",
              "      <th>id record</th>\n",
              "      <th>year_of_birth</th>\n",
              "    </tr>\n",
              "  </thead>\n",
              "  <tbody>\n",
              "    <tr>\n",
              "      <th>0</th>\n",
              "      <td>matthwew</td>\n",
              "      <td>apted</td>\n",
              "      <td>18.0</td>\n",
              "      <td>atherton srteet</td>\n",
              "      <td>currumb in hill</td>\n",
              "      <td>port macquarie</td>\n",
              "      <td>3183</td>\n",
              "      <td>vic</td>\n",
              "      <td>1959-08-25</td>\n",
              "      <td>9425976</td>\n",
              "      <td>B_0</td>\n",
              "      <td>1959.0</td>\n",
              "    </tr>\n",
              "    <tr>\n",
              "      <th>1</th>\n",
              "      <td>william</td>\n",
              "      <td>badger</td>\n",
              "      <td>NaN</td>\n",
              "      <td>dwyer s treet</td>\n",
              "      <td>glenlee</td>\n",
              "      <td>west lakes shore</td>\n",
              "      <td>3291</td>\n",
              "      <td>nsw</td>\n",
              "      <td>1900-12-10</td>\n",
              "      <td>4656608</td>\n",
              "      <td>B_1</td>\n",
              "      <td>1900.0</td>\n",
              "    </tr>\n",
              "    <tr>\n",
              "      <th>2</th>\n",
              "      <td>connor</td>\n",
              "      <td>bailke</td>\n",
              "      <td>186.0</td>\n",
              "      <td>lambie place</td>\n",
              "      <td>NaN</td>\n",
              "      <td>port lincoln</td>\n",
              "      <td>7303</td>\n",
              "      <td>qld</td>\n",
              "      <td>1967-05-29</td>\n",
              "      <td>4702335</td>\n",
              "      <td>B_2</td>\n",
              "      <td>1967.0</td>\n",
              "    </tr>\n",
              "    <tr>\n",
              "      <th>3</th>\n",
              "      <td>kaitlin</td>\n",
              "      <td>goldsworthy</td>\n",
              "      <td>54.0</td>\n",
              "      <td>NaN</td>\n",
              "      <td>NaN</td>\n",
              "      <td>thirroul</td>\n",
              "      <td>2035</td>\n",
              "      <td>nsw</td>\n",
              "      <td>1964-05-17</td>\n",
              "      <td>9127277</td>\n",
              "      <td>B_3</td>\n",
              "      <td>1964.0</td>\n",
              "    </tr>\n",
              "    <tr>\n",
              "      <th>4</th>\n",
              "      <td>jasmyn</td>\n",
              "      <td>lowe</td>\n",
              "      <td>48.0</td>\n",
              "      <td>toohey place</td>\n",
              "      <td>grand ecntral</td>\n",
              "      <td>bicton</td>\n",
              "      <td>3085</td>\n",
              "      <td>nsw</td>\n",
              "      <td>1932-09-18</td>\n",
              "      <td>1430128</td>\n",
              "      <td>B_4</td>\n",
              "      <td>1932.0</td>\n",
              "    </tr>\n",
              "  </tbody>\n",
              "</table>\n",
              "</div>\n",
              "      <button class=\"colab-df-convert\" onclick=\"convertToInteractive('df-b8666d0d-108b-42ab-85a7-75390cbb8a8d')\"\n",
              "              title=\"Convert this dataframe to an interactive table.\"\n",
              "              style=\"display:none;\">\n",
              "        \n",
              "  <svg xmlns=\"http://www.w3.org/2000/svg\" height=\"24px\"viewBox=\"0 0 24 24\"\n",
              "       width=\"24px\">\n",
              "    <path d=\"M0 0h24v24H0V0z\" fill=\"none\"/>\n",
              "    <path d=\"M18.56 5.44l.94 2.06.94-2.06 2.06-.94-2.06-.94-.94-2.06-.94 2.06-2.06.94zm-11 1L8.5 8.5l.94-2.06 2.06-.94-2.06-.94L8.5 2.5l-.94 2.06-2.06.94zm10 10l.94 2.06.94-2.06 2.06-.94-2.06-.94-.94-2.06-.94 2.06-2.06.94z\"/><path d=\"M17.41 7.96l-1.37-1.37c-.4-.4-.92-.59-1.43-.59-.52 0-1.04.2-1.43.59L10.3 9.45l-7.72 7.72c-.78.78-.78 2.05 0 2.83L4 21.41c.39.39.9.59 1.41.59.51 0 1.02-.2 1.41-.59l7.78-7.78 2.81-2.81c.8-.78.8-2.07 0-2.86zM5.41 20L4 18.59l7.72-7.72 1.47 1.35L5.41 20z\"/>\n",
              "  </svg>\n",
              "      </button>\n",
              "      \n",
              "  <style>\n",
              "    .colab-df-container {\n",
              "      display:flex;\n",
              "      flex-wrap:wrap;\n",
              "      gap: 12px;\n",
              "    }\n",
              "\n",
              "    .colab-df-convert {\n",
              "      background-color: #E8F0FE;\n",
              "      border: none;\n",
              "      border-radius: 50%;\n",
              "      cursor: pointer;\n",
              "      display: none;\n",
              "      fill: #1967D2;\n",
              "      height: 32px;\n",
              "      padding: 0 0 0 0;\n",
              "      width: 32px;\n",
              "    }\n",
              "\n",
              "    .colab-df-convert:hover {\n",
              "      background-color: #E2EBFA;\n",
              "      box-shadow: 0px 1px 2px rgba(60, 64, 67, 0.3), 0px 1px 3px 1px rgba(60, 64, 67, 0.15);\n",
              "      fill: #174EA6;\n",
              "    }\n",
              "\n",
              "    [theme=dark] .colab-df-convert {\n",
              "      background-color: #3B4455;\n",
              "      fill: #D2E3FC;\n",
              "    }\n",
              "\n",
              "    [theme=dark] .colab-df-convert:hover {\n",
              "      background-color: #434B5C;\n",
              "      box-shadow: 0px 1px 3px 1px rgba(0, 0, 0, 0.15);\n",
              "      filter: drop-shadow(0px 1px 2px rgba(0, 0, 0, 0.3));\n",
              "      fill: #FFFFFF;\n",
              "    }\n",
              "  </style>\n",
              "\n",
              "      <script>\n",
              "        const buttonEl =\n",
              "          document.querySelector('#df-b8666d0d-108b-42ab-85a7-75390cbb8a8d button.colab-df-convert');\n",
              "        buttonEl.style.display =\n",
              "          google.colab.kernel.accessAllowed ? 'block' : 'none';\n",
              "\n",
              "        async function convertToInteractive(key) {\n",
              "          const element = document.querySelector('#df-b8666d0d-108b-42ab-85a7-75390cbb8a8d');\n",
              "          const dataTable =\n",
              "            await google.colab.kernel.invokeFunction('convertToInteractive',\n",
              "                                                     [key], {});\n",
              "          if (!dataTable) return;\n",
              "\n",
              "          const docLinkHtml = 'Like what you see? Visit the ' +\n",
              "            '<a target=\"_blank\" href=https://colab.research.google.com/notebooks/data_table.ipynb>data table notebook</a>'\n",
              "            + ' to learn more about interactive tables.';\n",
              "          element.innerHTML = '';\n",
              "          dataTable['output_type'] = 'display_data';\n",
              "          await google.colab.output.renderOutput(dataTable, element);\n",
              "          const docLink = document.createElement('div');\n",
              "          docLink.innerHTML = docLinkHtml;\n",
              "          element.appendChild(docLink);\n",
              "        }\n",
              "      </script>\n",
              "    </div>\n",
              "  </div>\n",
              "  "
            ]
          },
          "metadata": {},
          "execution_count": 9
        }
      ]
    },
    {
      "cell_type": "code",
      "source": [
        "#contrôle des plages de valeurs des mois et des jours de 'date_of_birth'\n",
        "#df_verif=df\n",
        "#df_verif.insert(0,\"month_of_birth\",df_verif['date_of_birth'].dt.month)\n",
        "#df_verif.insert(0,\"day_of_birth\",df_verif['date_of_birth'].dt.day)\n",
        "#df_verif['month_of_birth'].max()\n",
        "#df_verif['day_of_birth'].max()"
      ],
      "metadata": {
        "id": "AYhcuIlAcBsY"
      },
      "id": "AYhcuIlAcBsY",
      "execution_count": null,
      "outputs": []
    },
    {
      "cell_type": "code",
      "execution_count": null,
      "id": "3f17aa9b",
      "metadata": {
        "colab": {
          "base_uri": "https://localhost:8080/"
        },
        "id": "3f17aa9b",
        "outputId": "50da653c-0a5b-4e6c-bf3a-edc1b7b4e9b7"
      },
      "outputs": [
        {
          "output_type": "stream",
          "name": "stdout",
          "text": [
            "Pourcentage de valeurs nulles (%)\n"
          ]
        },
        {
          "output_type": "execute_result",
          "data": {
            "text/plain": [
              "address_2        17.008821\n",
              "street_number     5.846030\n",
              "date_of_birth     5.457097\n",
              "year_of_birth     5.457097\n",
              "given_name        4.763432\n",
              "address_1         4.258220\n",
              "suburb            2.133119\n",
              "surname           2.117081\n",
              "state             2.109062\n",
              "postcode          0.000000\n",
              "soc_sec_id        0.000000\n",
              "id record         0.000000\n",
              "dtype: float64"
            ]
          },
          "metadata": {},
          "execution_count": 10
        }
      ],
      "source": [
        "# Pourcentage de valeurs nulles pour chaque attribut\n",
        "print('Pourcentage de valeurs nulles (%)')\n",
        "df.isnull().sum().sort_values(ascending=False)/len(df)*100"
      ]
    },
    {
      "cell_type": "markdown",
      "source": [
        "### Focus sur la non unicité de 'soc_sec_id' ou de 'date_of_birth' pour une personne donnée"
      ],
      "metadata": {
        "id": "Y03Pd6rypwWP"
      },
      "id": "Y03Pd6rypwWP"
    },
    {
      "cell_type": "markdown",
      "source": [
        "C'est un point important, car ces attributs a priori priviligiés pour identifier les personnes, se retrouvent dans la même situation que les autres avec des saisies potentielles d'erreurs.\n",
        "\n",
        "Nous allons montrer qu'il existe des cas où une même personne a plusieurs soc_sec_id ou date de naissance (probablement du à des erreurs de saisie)."
      ],
      "metadata": {
        "id": "_PrJRWEOo2uB"
      },
      "id": "_PrJRWEOo2uB"
    },
    {
      "cell_type": "code",
      "source": [
        "#Commençons par le cas de non unicité des soc_sec_id pour certaines personnes\n",
        "#On trouve quelques exemples en cernant quelques individus par le triplet (nom, prénom,date de naissance)\n",
        "\n",
        "#D'abord éliminons les lignes dont les cellules de date_of_birth, surname et given_name sont vides.\n",
        "df_etudiants_clean=df.dropna(subset=['date_of_birth']).dropna(subset=['given_name']).dropna(subset=['surname'])\n",
        "\n",
        "#Puis  regroupons par surname la liste des valeurs des attributs given_name,date_of_birth et soc_sec_id\n",
        "df_soc_sec_id=df_etudiants_clean.groupby('surname').agg({'given_name':lambda x: x.unique().tolist(),'date_of_birth':lambda x: x.unique().tolist(),'soc_sec_id':lambda x: x.unique().tolist(),'id record':lambda x: x.unique().tolist()})"
      ],
      "metadata": {
        "id": "nko0jGnXpj9-"
      },
      "id": "nko0jGnXpj9-",
      "execution_count": null,
      "outputs": []
    },
    {
      "cell_type": "code",
      "source": [
        "#contrôle\n",
        "#df_soc_sec_id.head()"
      ],
      "metadata": {
        "id": "FWmTZ0Qrzrxt"
      },
      "id": "FWmTZ0Qrzrxt",
      "execution_count": null,
      "outputs": []
    },
    {
      "cell_type": "code",
      "source": [
        "#définition des conditions pour ne garder que les individus avec une unique date de naissance et given_name\n",
        "condition1= (df_soc_sec_id['date_of_birth'].map(lambda x : len(x) == 1))\n",
        "condition2= (df_soc_sec_id['given_name'].map(lambda x : len(x) == 1))"
      ],
      "metadata": {
        "id": "YdtaAu9mq1Sq"
      },
      "id": "YdtaAu9mq1Sq",
      "execution_count": null,
      "outputs": []
    },
    {
      "cell_type": "code",
      "source": [
        "df_intermédiaire =df_soc_sec_id.loc[condition1 & condition2]"
      ],
      "metadata": {
        "id": "I0Dsj2Gnq4iL"
      },
      "id": "I0Dsj2Gnq4iL",
      "execution_count": null,
      "outputs": []
    },
    {
      "cell_type": "code",
      "source": [
        "#on obtient une liste de personnes dont la probabilité qu'elles sont uniques est elevée\n",
        "#il suffit par la suite de vérifier quelques cas dans le jeu de donnée sur la base des autres attributs  \n",
        "df_intermédiaire[df_intermédiaire['soc_sec_id'].map(lambda x : len(x) >=2)]"
      ],
      "metadata": {
        "id": "ozVVxrctq_Pm",
        "colab": {
          "base_uri": "https://localhost:8080/",
          "height": 450
        },
        "outputId": "fbea2b16-5062-4824-c610-c7b5d89c5e35"
      },
      "id": "ozVVxrctq_Pm",
      "execution_count": null,
      "outputs": [
        {
          "output_type": "execute_result",
          "data": {
            "text/plain": [
              "              given_name date_of_birth          soc_sec_id  \\\n",
              "surname                                                      \n",
              "abeywickrama     [sohie]  [1957-03-14]  [9229864, 9229868]   \n",
              "adhikari        [sienna]  [1937-01-12]  [3509303, 3509302]   \n",
              "alessi         [natasha]  [1941-07-21]  [6485512, 6485513]   \n",
              "allabanda         [todd]  [1912-07-01]  [9676170, 9676173]   \n",
              "allchin           [ruby]  [1947-04-12]  [1630282, 1630283]   \n",
              "...                  ...           ...                 ...   \n",
              "vero            [lachoa]  [1983-01-03]  [8260739, 8260740]   \n",
              "voskulen        [lauren]  [1954-04-07]  [6075780, 6075784]   \n",
              "whitw           [olivia]  [1994-10-26]  [7159817, 7159814]   \n",
              "wojciecohwski  [indyana]  [1924-10-23]  [7357292, 7357295]   \n",
              "zdanowicz       [oscxar]  [1945-09-06]  [5103704, 5103705]   \n",
              "\n",
              "                                                       id record  \n",
              "surname                                                           \n",
              "abeywickrama                         [B_10746, B_16667, B_19288]  \n",
              "adhikari                                         [B_717, B_9575]  \n",
              "alessi                       [B_1002, B_15602, B_21146, B_23615]  \n",
              "allabanda                             [B_6944, B_12146, B_19093]  \n",
              "allchin                                  [B_753, B_4152, B_9685]  \n",
              "...                                                          ...  \n",
              "vero           [B_394, B_1203, B_14357, B_16511, B_18114, B_2...  \n",
              "voskulen            [B_2070, B_10613, B_12055, B_13326, B_14785]  \n",
              "whitw          [B_6010, B_10010, B_10024, B_19981, B_20247, B...  \n",
              "wojciecohwski  [B_8456, B_12908, B_14100, B_14987, B_18372, B...  \n",
              "zdanowicz      [B_3781, B_5212, B_5883, B_7638, B_9165, B_205...  \n",
              "\n",
              "[89 rows x 4 columns]"
            ],
            "text/html": [
              "\n",
              "  <div id=\"df-949106bb-3e78-4d25-bb46-9e15734f9b3f\">\n",
              "    <div class=\"colab-df-container\">\n",
              "      <div>\n",
              "<style scoped>\n",
              "    .dataframe tbody tr th:only-of-type {\n",
              "        vertical-align: middle;\n",
              "    }\n",
              "\n",
              "    .dataframe tbody tr th {\n",
              "        vertical-align: top;\n",
              "    }\n",
              "\n",
              "    .dataframe thead th {\n",
              "        text-align: right;\n",
              "    }\n",
              "</style>\n",
              "<table border=\"1\" class=\"dataframe\">\n",
              "  <thead>\n",
              "    <tr style=\"text-align: right;\">\n",
              "      <th></th>\n",
              "      <th>given_name</th>\n",
              "      <th>date_of_birth</th>\n",
              "      <th>soc_sec_id</th>\n",
              "      <th>id record</th>\n",
              "    </tr>\n",
              "    <tr>\n",
              "      <th>surname</th>\n",
              "      <th></th>\n",
              "      <th></th>\n",
              "      <th></th>\n",
              "      <th></th>\n",
              "    </tr>\n",
              "  </thead>\n",
              "  <tbody>\n",
              "    <tr>\n",
              "      <th>abeywickrama</th>\n",
              "      <td>[sohie]</td>\n",
              "      <td>[1957-03-14]</td>\n",
              "      <td>[9229864, 9229868]</td>\n",
              "      <td>[B_10746, B_16667, B_19288]</td>\n",
              "    </tr>\n",
              "    <tr>\n",
              "      <th>adhikari</th>\n",
              "      <td>[sienna]</td>\n",
              "      <td>[1937-01-12]</td>\n",
              "      <td>[3509303, 3509302]</td>\n",
              "      <td>[B_717, B_9575]</td>\n",
              "    </tr>\n",
              "    <tr>\n",
              "      <th>alessi</th>\n",
              "      <td>[natasha]</td>\n",
              "      <td>[1941-07-21]</td>\n",
              "      <td>[6485512, 6485513]</td>\n",
              "      <td>[B_1002, B_15602, B_21146, B_23615]</td>\n",
              "    </tr>\n",
              "    <tr>\n",
              "      <th>allabanda</th>\n",
              "      <td>[todd]</td>\n",
              "      <td>[1912-07-01]</td>\n",
              "      <td>[9676170, 9676173]</td>\n",
              "      <td>[B_6944, B_12146, B_19093]</td>\n",
              "    </tr>\n",
              "    <tr>\n",
              "      <th>allchin</th>\n",
              "      <td>[ruby]</td>\n",
              "      <td>[1947-04-12]</td>\n",
              "      <td>[1630282, 1630283]</td>\n",
              "      <td>[B_753, B_4152, B_9685]</td>\n",
              "    </tr>\n",
              "    <tr>\n",
              "      <th>...</th>\n",
              "      <td>...</td>\n",
              "      <td>...</td>\n",
              "      <td>...</td>\n",
              "      <td>...</td>\n",
              "    </tr>\n",
              "    <tr>\n",
              "      <th>vero</th>\n",
              "      <td>[lachoa]</td>\n",
              "      <td>[1983-01-03]</td>\n",
              "      <td>[8260739, 8260740]</td>\n",
              "      <td>[B_394, B_1203, B_14357, B_16511, B_18114, B_2...</td>\n",
              "    </tr>\n",
              "    <tr>\n",
              "      <th>voskulen</th>\n",
              "      <td>[lauren]</td>\n",
              "      <td>[1954-04-07]</td>\n",
              "      <td>[6075780, 6075784]</td>\n",
              "      <td>[B_2070, B_10613, B_12055, B_13326, B_14785]</td>\n",
              "    </tr>\n",
              "    <tr>\n",
              "      <th>whitw</th>\n",
              "      <td>[olivia]</td>\n",
              "      <td>[1994-10-26]</td>\n",
              "      <td>[7159817, 7159814]</td>\n",
              "      <td>[B_6010, B_10010, B_10024, B_19981, B_20247, B...</td>\n",
              "    </tr>\n",
              "    <tr>\n",
              "      <th>wojciecohwski</th>\n",
              "      <td>[indyana]</td>\n",
              "      <td>[1924-10-23]</td>\n",
              "      <td>[7357292, 7357295]</td>\n",
              "      <td>[B_8456, B_12908, B_14100, B_14987, B_18372, B...</td>\n",
              "    </tr>\n",
              "    <tr>\n",
              "      <th>zdanowicz</th>\n",
              "      <td>[oscxar]</td>\n",
              "      <td>[1945-09-06]</td>\n",
              "      <td>[5103704, 5103705]</td>\n",
              "      <td>[B_3781, B_5212, B_5883, B_7638, B_9165, B_205...</td>\n",
              "    </tr>\n",
              "  </tbody>\n",
              "</table>\n",
              "<p>89 rows × 4 columns</p>\n",
              "</div>\n",
              "      <button class=\"colab-df-convert\" onclick=\"convertToInteractive('df-949106bb-3e78-4d25-bb46-9e15734f9b3f')\"\n",
              "              title=\"Convert this dataframe to an interactive table.\"\n",
              "              style=\"display:none;\">\n",
              "        \n",
              "  <svg xmlns=\"http://www.w3.org/2000/svg\" height=\"24px\"viewBox=\"0 0 24 24\"\n",
              "       width=\"24px\">\n",
              "    <path d=\"M0 0h24v24H0V0z\" fill=\"none\"/>\n",
              "    <path d=\"M18.56 5.44l.94 2.06.94-2.06 2.06-.94-2.06-.94-.94-2.06-.94 2.06-2.06.94zm-11 1L8.5 8.5l.94-2.06 2.06-.94-2.06-.94L8.5 2.5l-.94 2.06-2.06.94zm10 10l.94 2.06.94-2.06 2.06-.94-2.06-.94-.94-2.06-.94 2.06-2.06.94z\"/><path d=\"M17.41 7.96l-1.37-1.37c-.4-.4-.92-.59-1.43-.59-.52 0-1.04.2-1.43.59L10.3 9.45l-7.72 7.72c-.78.78-.78 2.05 0 2.83L4 21.41c.39.39.9.59 1.41.59.51 0 1.02-.2 1.41-.59l7.78-7.78 2.81-2.81c.8-.78.8-2.07 0-2.86zM5.41 20L4 18.59l7.72-7.72 1.47 1.35L5.41 20z\"/>\n",
              "  </svg>\n",
              "      </button>\n",
              "      \n",
              "  <style>\n",
              "    .colab-df-container {\n",
              "      display:flex;\n",
              "      flex-wrap:wrap;\n",
              "      gap: 12px;\n",
              "    }\n",
              "\n",
              "    .colab-df-convert {\n",
              "      background-color: #E8F0FE;\n",
              "      border: none;\n",
              "      border-radius: 50%;\n",
              "      cursor: pointer;\n",
              "      display: none;\n",
              "      fill: #1967D2;\n",
              "      height: 32px;\n",
              "      padding: 0 0 0 0;\n",
              "      width: 32px;\n",
              "    }\n",
              "\n",
              "    .colab-df-convert:hover {\n",
              "      background-color: #E2EBFA;\n",
              "      box-shadow: 0px 1px 2px rgba(60, 64, 67, 0.3), 0px 1px 3px 1px rgba(60, 64, 67, 0.15);\n",
              "      fill: #174EA6;\n",
              "    }\n",
              "\n",
              "    [theme=dark] .colab-df-convert {\n",
              "      background-color: #3B4455;\n",
              "      fill: #D2E3FC;\n",
              "    }\n",
              "\n",
              "    [theme=dark] .colab-df-convert:hover {\n",
              "      background-color: #434B5C;\n",
              "      box-shadow: 0px 1px 3px 1px rgba(0, 0, 0, 0.15);\n",
              "      filter: drop-shadow(0px 1px 2px rgba(0, 0, 0, 0.3));\n",
              "      fill: #FFFFFF;\n",
              "    }\n",
              "  </style>\n",
              "\n",
              "      <script>\n",
              "        const buttonEl =\n",
              "          document.querySelector('#df-949106bb-3e78-4d25-bb46-9e15734f9b3f button.colab-df-convert');\n",
              "        buttonEl.style.display =\n",
              "          google.colab.kernel.accessAllowed ? 'block' : 'none';\n",
              "\n",
              "        async function convertToInteractive(key) {\n",
              "          const element = document.querySelector('#df-949106bb-3e78-4d25-bb46-9e15734f9b3f');\n",
              "          const dataTable =\n",
              "            await google.colab.kernel.invokeFunction('convertToInteractive',\n",
              "                                                     [key], {});\n",
              "          if (!dataTable) return;\n",
              "\n",
              "          const docLinkHtml = 'Like what you see? Visit the ' +\n",
              "            '<a target=\"_blank\" href=https://colab.research.google.com/notebooks/data_table.ipynb>data table notebook</a>'\n",
              "            + ' to learn more about interactive tables.';\n",
              "          element.innerHTML = '';\n",
              "          dataTable['output_type'] = 'display_data';\n",
              "          await google.colab.output.renderOutput(dataTable, element);\n",
              "          const docLink = document.createElement('div');\n",
              "          docLink.innerHTML = docLinkHtml;\n",
              "          element.appendChild(docLink);\n",
              "        }\n",
              "      </script>\n",
              "    </div>\n",
              "  </div>\n",
              "  "
            ]
          },
          "metadata": {},
          "execution_count": 11
        }
      ]
    },
    {
      "cell_type": "code",
      "source": [
        "#Exemple de personnes avec des soc_sec_id différents\n",
        "#cas 1\n",
        "#df[df['id record'] == 'B_3108']\n",
        "#cas2\n",
        "df[df['id record'] == 'B_5423']"
      ],
      "metadata": {
        "id": "b9Ar9YLFrDCT",
        "colab": {
          "base_uri": "https://localhost:8080/",
          "height": 161
        },
        "outputId": "e9149b87-b491-4c46-af27-a07fc52d81b4"
      },
      "id": "b9Ar9YLFrDCT",
      "execution_count": null,
      "outputs": [
        {
          "output_type": "execute_result",
          "data": {
            "text/plain": [
              "     given_name   surname  street_number     address_1 address_2    suburb  \\\n",
              "5423      sokic  benjamin           21.0  must circuit       NaN  sunshine   \n",
              "\n",
              "      postcode state date_of_birth  soc_sec_id id record  year_of_birth  \n",
              "5423      2153   vic    1900-12-07     2513201    B_5423         1900.0  "
            ],
            "text/html": [
              "\n",
              "  <div id=\"df-e315093f-cded-4542-a58c-7280d043d860\">\n",
              "    <div class=\"colab-df-container\">\n",
              "      <div>\n",
              "<style scoped>\n",
              "    .dataframe tbody tr th:only-of-type {\n",
              "        vertical-align: middle;\n",
              "    }\n",
              "\n",
              "    .dataframe tbody tr th {\n",
              "        vertical-align: top;\n",
              "    }\n",
              "\n",
              "    .dataframe thead th {\n",
              "        text-align: right;\n",
              "    }\n",
              "</style>\n",
              "<table border=\"1\" class=\"dataframe\">\n",
              "  <thead>\n",
              "    <tr style=\"text-align: right;\">\n",
              "      <th></th>\n",
              "      <th>given_name</th>\n",
              "      <th>surname</th>\n",
              "      <th>street_number</th>\n",
              "      <th>address_1</th>\n",
              "      <th>address_2</th>\n",
              "      <th>suburb</th>\n",
              "      <th>postcode</th>\n",
              "      <th>state</th>\n",
              "      <th>date_of_birth</th>\n",
              "      <th>soc_sec_id</th>\n",
              "      <th>id record</th>\n",
              "      <th>year_of_birth</th>\n",
              "    </tr>\n",
              "  </thead>\n",
              "  <tbody>\n",
              "    <tr>\n",
              "      <th>5423</th>\n",
              "      <td>sokic</td>\n",
              "      <td>benjamin</td>\n",
              "      <td>21.0</td>\n",
              "      <td>must circuit</td>\n",
              "      <td>NaN</td>\n",
              "      <td>sunshine</td>\n",
              "      <td>2153</td>\n",
              "      <td>vic</td>\n",
              "      <td>1900-12-07</td>\n",
              "      <td>2513201</td>\n",
              "      <td>B_5423</td>\n",
              "      <td>1900.0</td>\n",
              "    </tr>\n",
              "  </tbody>\n",
              "</table>\n",
              "</div>\n",
              "      <button class=\"colab-df-convert\" onclick=\"convertToInteractive('df-e315093f-cded-4542-a58c-7280d043d860')\"\n",
              "              title=\"Convert this dataframe to an interactive table.\"\n",
              "              style=\"display:none;\">\n",
              "        \n",
              "  <svg xmlns=\"http://www.w3.org/2000/svg\" height=\"24px\"viewBox=\"0 0 24 24\"\n",
              "       width=\"24px\">\n",
              "    <path d=\"M0 0h24v24H0V0z\" fill=\"none\"/>\n",
              "    <path d=\"M18.56 5.44l.94 2.06.94-2.06 2.06-.94-2.06-.94-.94-2.06-.94 2.06-2.06.94zm-11 1L8.5 8.5l.94-2.06 2.06-.94-2.06-.94L8.5 2.5l-.94 2.06-2.06.94zm10 10l.94 2.06.94-2.06 2.06-.94-2.06-.94-.94-2.06-.94 2.06-2.06.94z\"/><path d=\"M17.41 7.96l-1.37-1.37c-.4-.4-.92-.59-1.43-.59-.52 0-1.04.2-1.43.59L10.3 9.45l-7.72 7.72c-.78.78-.78 2.05 0 2.83L4 21.41c.39.39.9.59 1.41.59.51 0 1.02-.2 1.41-.59l7.78-7.78 2.81-2.81c.8-.78.8-2.07 0-2.86zM5.41 20L4 18.59l7.72-7.72 1.47 1.35L5.41 20z\"/>\n",
              "  </svg>\n",
              "      </button>\n",
              "      \n",
              "  <style>\n",
              "    .colab-df-container {\n",
              "      display:flex;\n",
              "      flex-wrap:wrap;\n",
              "      gap: 12px;\n",
              "    }\n",
              "\n",
              "    .colab-df-convert {\n",
              "      background-color: #E8F0FE;\n",
              "      border: none;\n",
              "      border-radius: 50%;\n",
              "      cursor: pointer;\n",
              "      display: none;\n",
              "      fill: #1967D2;\n",
              "      height: 32px;\n",
              "      padding: 0 0 0 0;\n",
              "      width: 32px;\n",
              "    }\n",
              "\n",
              "    .colab-df-convert:hover {\n",
              "      background-color: #E2EBFA;\n",
              "      box-shadow: 0px 1px 2px rgba(60, 64, 67, 0.3), 0px 1px 3px 1px rgba(60, 64, 67, 0.15);\n",
              "      fill: #174EA6;\n",
              "    }\n",
              "\n",
              "    [theme=dark] .colab-df-convert {\n",
              "      background-color: #3B4455;\n",
              "      fill: #D2E3FC;\n",
              "    }\n",
              "\n",
              "    [theme=dark] .colab-df-convert:hover {\n",
              "      background-color: #434B5C;\n",
              "      box-shadow: 0px 1px 3px 1px rgba(0, 0, 0, 0.15);\n",
              "      filter: drop-shadow(0px 1px 2px rgba(0, 0, 0, 0.3));\n",
              "      fill: #FFFFFF;\n",
              "    }\n",
              "  </style>\n",
              "\n",
              "      <script>\n",
              "        const buttonEl =\n",
              "          document.querySelector('#df-e315093f-cded-4542-a58c-7280d043d860 button.colab-df-convert');\n",
              "        buttonEl.style.display =\n",
              "          google.colab.kernel.accessAllowed ? 'block' : 'none';\n",
              "\n",
              "        async function convertToInteractive(key) {\n",
              "          const element = document.querySelector('#df-e315093f-cded-4542-a58c-7280d043d860');\n",
              "          const dataTable =\n",
              "            await google.colab.kernel.invokeFunction('convertToInteractive',\n",
              "                                                     [key], {});\n",
              "          if (!dataTable) return;\n",
              "\n",
              "          const docLinkHtml = 'Like what you see? Visit the ' +\n",
              "            '<a target=\"_blank\" href=https://colab.research.google.com/notebooks/data_table.ipynb>data table notebook</a>'\n",
              "            + ' to learn more about interactive tables.';\n",
              "          element.innerHTML = '';\n",
              "          dataTable['output_type'] = 'display_data';\n",
              "          await google.colab.output.renderOutput(dataTable, element);\n",
              "          const docLink = document.createElement('div');\n",
              "          docLink.innerHTML = docLinkHtml;\n",
              "          element.appendChild(docLink);\n",
              "        }\n",
              "      </script>\n",
              "    </div>\n",
              "  </div>\n",
              "  "
            ]
          },
          "metadata": {},
          "execution_count": 35
        }
      ]
    },
    {
      "cell_type": "code",
      "source": [
        "#cas1\n",
        "#df[df['id record'] == 'B_3399']\n",
        "#cas2\n",
        "df[df['id record'] == 'B_20713']"
      ],
      "metadata": {
        "colab": {
          "base_uri": "https://localhost:8080/",
          "height": 161
        },
        "id": "gqPMOk2O0C1A",
        "outputId": "a124dcd8-9b9a-4f5f-e9b5-1d9f72d15ea9"
      },
      "id": "gqPMOk2O0C1A",
      "execution_count": null,
      "outputs": [
        {
          "output_type": "execute_result",
          "data": {
            "text/plain": [
              "      given_name   surname  street_number     address_1 address_2    suburb  \\\n",
              "20713      sokic  benjamin           21.0  must circuit       NaN  sunshine   \n",
              "\n",
              "       postcode state date_of_birth  soc_sec_id id record  year_of_birth  \n",
              "20713      2153   vic    1900-12-07     2513200   B_20713         1900.0  "
            ],
            "text/html": [
              "\n",
              "  <div id=\"df-23efcc93-65f2-43bb-9f72-d3efa1f2d9d1\">\n",
              "    <div class=\"colab-df-container\">\n",
              "      <div>\n",
              "<style scoped>\n",
              "    .dataframe tbody tr th:only-of-type {\n",
              "        vertical-align: middle;\n",
              "    }\n",
              "\n",
              "    .dataframe tbody tr th {\n",
              "        vertical-align: top;\n",
              "    }\n",
              "\n",
              "    .dataframe thead th {\n",
              "        text-align: right;\n",
              "    }\n",
              "</style>\n",
              "<table border=\"1\" class=\"dataframe\">\n",
              "  <thead>\n",
              "    <tr style=\"text-align: right;\">\n",
              "      <th></th>\n",
              "      <th>given_name</th>\n",
              "      <th>surname</th>\n",
              "      <th>street_number</th>\n",
              "      <th>address_1</th>\n",
              "      <th>address_2</th>\n",
              "      <th>suburb</th>\n",
              "      <th>postcode</th>\n",
              "      <th>state</th>\n",
              "      <th>date_of_birth</th>\n",
              "      <th>soc_sec_id</th>\n",
              "      <th>id record</th>\n",
              "      <th>year_of_birth</th>\n",
              "    </tr>\n",
              "  </thead>\n",
              "  <tbody>\n",
              "    <tr>\n",
              "      <th>20713</th>\n",
              "      <td>sokic</td>\n",
              "      <td>benjamin</td>\n",
              "      <td>21.0</td>\n",
              "      <td>must circuit</td>\n",
              "      <td>NaN</td>\n",
              "      <td>sunshine</td>\n",
              "      <td>2153</td>\n",
              "      <td>vic</td>\n",
              "      <td>1900-12-07</td>\n",
              "      <td>2513200</td>\n",
              "      <td>B_20713</td>\n",
              "      <td>1900.0</td>\n",
              "    </tr>\n",
              "  </tbody>\n",
              "</table>\n",
              "</div>\n",
              "      <button class=\"colab-df-convert\" onclick=\"convertToInteractive('df-23efcc93-65f2-43bb-9f72-d3efa1f2d9d1')\"\n",
              "              title=\"Convert this dataframe to an interactive table.\"\n",
              "              style=\"display:none;\">\n",
              "        \n",
              "  <svg xmlns=\"http://www.w3.org/2000/svg\" height=\"24px\"viewBox=\"0 0 24 24\"\n",
              "       width=\"24px\">\n",
              "    <path d=\"M0 0h24v24H0V0z\" fill=\"none\"/>\n",
              "    <path d=\"M18.56 5.44l.94 2.06.94-2.06 2.06-.94-2.06-.94-.94-2.06-.94 2.06-2.06.94zm-11 1L8.5 8.5l.94-2.06 2.06-.94-2.06-.94L8.5 2.5l-.94 2.06-2.06.94zm10 10l.94 2.06.94-2.06 2.06-.94-2.06-.94-.94-2.06-.94 2.06-2.06.94z\"/><path d=\"M17.41 7.96l-1.37-1.37c-.4-.4-.92-.59-1.43-.59-.52 0-1.04.2-1.43.59L10.3 9.45l-7.72 7.72c-.78.78-.78 2.05 0 2.83L4 21.41c.39.39.9.59 1.41.59.51 0 1.02-.2 1.41-.59l7.78-7.78 2.81-2.81c.8-.78.8-2.07 0-2.86zM5.41 20L4 18.59l7.72-7.72 1.47 1.35L5.41 20z\"/>\n",
              "  </svg>\n",
              "      </button>\n",
              "      \n",
              "  <style>\n",
              "    .colab-df-container {\n",
              "      display:flex;\n",
              "      flex-wrap:wrap;\n",
              "      gap: 12px;\n",
              "    }\n",
              "\n",
              "    .colab-df-convert {\n",
              "      background-color: #E8F0FE;\n",
              "      border: none;\n",
              "      border-radius: 50%;\n",
              "      cursor: pointer;\n",
              "      display: none;\n",
              "      fill: #1967D2;\n",
              "      height: 32px;\n",
              "      padding: 0 0 0 0;\n",
              "      width: 32px;\n",
              "    }\n",
              "\n",
              "    .colab-df-convert:hover {\n",
              "      background-color: #E2EBFA;\n",
              "      box-shadow: 0px 1px 2px rgba(60, 64, 67, 0.3), 0px 1px 3px 1px rgba(60, 64, 67, 0.15);\n",
              "      fill: #174EA6;\n",
              "    }\n",
              "\n",
              "    [theme=dark] .colab-df-convert {\n",
              "      background-color: #3B4455;\n",
              "      fill: #D2E3FC;\n",
              "    }\n",
              "\n",
              "    [theme=dark] .colab-df-convert:hover {\n",
              "      background-color: #434B5C;\n",
              "      box-shadow: 0px 1px 3px 1px rgba(0, 0, 0, 0.15);\n",
              "      filter: drop-shadow(0px 1px 2px rgba(0, 0, 0, 0.3));\n",
              "      fill: #FFFFFF;\n",
              "    }\n",
              "  </style>\n",
              "\n",
              "      <script>\n",
              "        const buttonEl =\n",
              "          document.querySelector('#df-23efcc93-65f2-43bb-9f72-d3efa1f2d9d1 button.colab-df-convert');\n",
              "        buttonEl.style.display =\n",
              "          google.colab.kernel.accessAllowed ? 'block' : 'none';\n",
              "\n",
              "        async function convertToInteractive(key) {\n",
              "          const element = document.querySelector('#df-23efcc93-65f2-43bb-9f72-d3efa1f2d9d1');\n",
              "          const dataTable =\n",
              "            await google.colab.kernel.invokeFunction('convertToInteractive',\n",
              "                                                     [key], {});\n",
              "          if (!dataTable) return;\n",
              "\n",
              "          const docLinkHtml = 'Like what you see? Visit the ' +\n",
              "            '<a target=\"_blank\" href=https://colab.research.google.com/notebooks/data_table.ipynb>data table notebook</a>'\n",
              "            + ' to learn more about interactive tables.';\n",
              "          element.innerHTML = '';\n",
              "          dataTable['output_type'] = 'display_data';\n",
              "          await google.colab.output.renderOutput(dataTable, element);\n",
              "          const docLink = document.createElement('div');\n",
              "          docLink.innerHTML = docLinkHtml;\n",
              "          element.appendChild(docLink);\n",
              "        }\n",
              "      </script>\n",
              "    </div>\n",
              "  </div>\n",
              "  "
            ]
          },
          "metadata": {},
          "execution_count": 36
        }
      ]
    },
    {
      "cell_type": "code",
      "source": [
        "#Poursuivons avec la non unicité des dates de naissance pour certaines personnes\n",
        "#La démarche est la même en partant d'une liste de personne avec un soc_sec_id unique\n",
        "\n",
        "#Eliminons les cas avec plus de un soc_sec_id\n",
        "df_intermédiaire = df_soc_sec_id[df_soc_sec_id['soc_sec_id'].map(lambda x : len(x) == 1)]\n"
      ],
      "metadata": {
        "id": "63t2pQFprI8J"
      },
      "id": "63t2pQFprI8J",
      "execution_count": null,
      "outputs": []
    },
    {
      "cell_type": "code",
      "source": [
        "#contrôle\n",
        "df_intermédiaire"
      ],
      "metadata": {
        "id": "Oa4TmpyF0aoZ"
      },
      "id": "Oa4TmpyF0aoZ",
      "execution_count": null,
      "outputs": []
    },
    {
      "cell_type": "code",
      "source": [
        "#On obtient une liste de personnes dont on est quasiment sûr qu'elles sont uniques\n",
        "df_intermédiaire[['soc_sec_id','id record','date_of_birth']][df_intermédiaire['date_of_birth'].map(lambda x : len(x) >=2)]"
      ],
      "metadata": {
        "id": "xDsYJHjQrYr7",
        "colab": {
          "base_uri": "https://localhost:8080/",
          "height": 450
        },
        "outputId": "c95eb129-07f1-4473-8c4a-5cc8cb9e7497"
      },
      "id": "xDsYJHjQrYr7",
      "execution_count": null,
      "outputs": [
        {
          "output_type": "execute_result",
          "data": {
            "text/plain": [
              "            soc_sec_id                                          id record  \\\n",
              "surname                                                                     \n",
              "absegnger    [3481813]  [B_2817, B_3465, B_4346, B_4794, B_9775, B_123...   \n",
              "allves       [3058450]                                  [B_9352, B_10854]   \n",
              "andretzke    [6331022]  [B_2969, B_3697, B_6598, B_9219, B_9244, B_146...   \n",
              "armanious    [3732493]                                 [B_18028, B_19395]   \n",
              "asche        [8036732]  [B_1784, B_14587, B_15151, B_16224, B_16253, B...   \n",
              "...                ...                                                ...   \n",
              "wilson       [7471491]          [B_994, B_3991, B_8038, B_16088, B_22275]   \n",
              "wisemdan     [2741568]  [B_1014, B_3390, B_7345, B_18605, B_20467, B_2...   \n",
              "wnite        [5053650]  [B_4313, B_7509, B_12980, B_15041, B_19694, B_...   \n",
              "zarlia       [1904897]                            [B_338, B_1553, B_3081]   \n",
              "zawistowski  [7508567]  [B_1701, B_1839, B_6734, B_15770, B_19743, B_2...   \n",
              "\n",
              "                        date_of_birth  \n",
              "surname                                \n",
              "absegnger    [1909-10-01, 1909-10-05]  \n",
              "allves       [1959-12-21, 1959-12-17]  \n",
              "andretzke    [1934-02-27, 1934-02-25]  \n",
              "armanious    [1967-08-16, 1967-08-18]  \n",
              "asche        [1926-03-16, 1926-03-17]  \n",
              "...                               ...  \n",
              "wilson       [1933-06-25, 1933-06-28]  \n",
              "wisemdan     [1900-07-14, 1900-07-16]  \n",
              "wnite        [1913-04-18, 1913-04-20]  \n",
              "zarlia       [1910-12-26, 1910-12-25]  \n",
              "zawistowski  [1978-10-26, 1978-10-29]  \n",
              "\n",
              "[91 rows x 3 columns]"
            ],
            "text/html": [
              "\n",
              "  <div id=\"df-f1740c8b-02e8-41a7-9354-e4b29e3fd0c6\">\n",
              "    <div class=\"colab-df-container\">\n",
              "      <div>\n",
              "<style scoped>\n",
              "    .dataframe tbody tr th:only-of-type {\n",
              "        vertical-align: middle;\n",
              "    }\n",
              "\n",
              "    .dataframe tbody tr th {\n",
              "        vertical-align: top;\n",
              "    }\n",
              "\n",
              "    .dataframe thead th {\n",
              "        text-align: right;\n",
              "    }\n",
              "</style>\n",
              "<table border=\"1\" class=\"dataframe\">\n",
              "  <thead>\n",
              "    <tr style=\"text-align: right;\">\n",
              "      <th></th>\n",
              "      <th>soc_sec_id</th>\n",
              "      <th>id record</th>\n",
              "      <th>date_of_birth</th>\n",
              "    </tr>\n",
              "    <tr>\n",
              "      <th>surname</th>\n",
              "      <th></th>\n",
              "      <th></th>\n",
              "      <th></th>\n",
              "    </tr>\n",
              "  </thead>\n",
              "  <tbody>\n",
              "    <tr>\n",
              "      <th>absegnger</th>\n",
              "      <td>[3481813]</td>\n",
              "      <td>[B_2817, B_3465, B_4346, B_4794, B_9775, B_123...</td>\n",
              "      <td>[1909-10-01, 1909-10-05]</td>\n",
              "    </tr>\n",
              "    <tr>\n",
              "      <th>allves</th>\n",
              "      <td>[3058450]</td>\n",
              "      <td>[B_9352, B_10854]</td>\n",
              "      <td>[1959-12-21, 1959-12-17]</td>\n",
              "    </tr>\n",
              "    <tr>\n",
              "      <th>andretzke</th>\n",
              "      <td>[6331022]</td>\n",
              "      <td>[B_2969, B_3697, B_6598, B_9219, B_9244, B_146...</td>\n",
              "      <td>[1934-02-27, 1934-02-25]</td>\n",
              "    </tr>\n",
              "    <tr>\n",
              "      <th>armanious</th>\n",
              "      <td>[3732493]</td>\n",
              "      <td>[B_18028, B_19395]</td>\n",
              "      <td>[1967-08-16, 1967-08-18]</td>\n",
              "    </tr>\n",
              "    <tr>\n",
              "      <th>asche</th>\n",
              "      <td>[8036732]</td>\n",
              "      <td>[B_1784, B_14587, B_15151, B_16224, B_16253, B...</td>\n",
              "      <td>[1926-03-16, 1926-03-17]</td>\n",
              "    </tr>\n",
              "    <tr>\n",
              "      <th>...</th>\n",
              "      <td>...</td>\n",
              "      <td>...</td>\n",
              "      <td>...</td>\n",
              "    </tr>\n",
              "    <tr>\n",
              "      <th>wilson</th>\n",
              "      <td>[7471491]</td>\n",
              "      <td>[B_994, B_3991, B_8038, B_16088, B_22275]</td>\n",
              "      <td>[1933-06-25, 1933-06-28]</td>\n",
              "    </tr>\n",
              "    <tr>\n",
              "      <th>wisemdan</th>\n",
              "      <td>[2741568]</td>\n",
              "      <td>[B_1014, B_3390, B_7345, B_18605, B_20467, B_2...</td>\n",
              "      <td>[1900-07-14, 1900-07-16]</td>\n",
              "    </tr>\n",
              "    <tr>\n",
              "      <th>wnite</th>\n",
              "      <td>[5053650]</td>\n",
              "      <td>[B_4313, B_7509, B_12980, B_15041, B_19694, B_...</td>\n",
              "      <td>[1913-04-18, 1913-04-20]</td>\n",
              "    </tr>\n",
              "    <tr>\n",
              "      <th>zarlia</th>\n",
              "      <td>[1904897]</td>\n",
              "      <td>[B_338, B_1553, B_3081]</td>\n",
              "      <td>[1910-12-26, 1910-12-25]</td>\n",
              "    </tr>\n",
              "    <tr>\n",
              "      <th>zawistowski</th>\n",
              "      <td>[7508567]</td>\n",
              "      <td>[B_1701, B_1839, B_6734, B_15770, B_19743, B_2...</td>\n",
              "      <td>[1978-10-26, 1978-10-29]</td>\n",
              "    </tr>\n",
              "  </tbody>\n",
              "</table>\n",
              "<p>91 rows × 3 columns</p>\n",
              "</div>\n",
              "      <button class=\"colab-df-convert\" onclick=\"convertToInteractive('df-f1740c8b-02e8-41a7-9354-e4b29e3fd0c6')\"\n",
              "              title=\"Convert this dataframe to an interactive table.\"\n",
              "              style=\"display:none;\">\n",
              "        \n",
              "  <svg xmlns=\"http://www.w3.org/2000/svg\" height=\"24px\"viewBox=\"0 0 24 24\"\n",
              "       width=\"24px\">\n",
              "    <path d=\"M0 0h24v24H0V0z\" fill=\"none\"/>\n",
              "    <path d=\"M18.56 5.44l.94 2.06.94-2.06 2.06-.94-2.06-.94-.94-2.06-.94 2.06-2.06.94zm-11 1L8.5 8.5l.94-2.06 2.06-.94-2.06-.94L8.5 2.5l-.94 2.06-2.06.94zm10 10l.94 2.06.94-2.06 2.06-.94-2.06-.94-.94-2.06-.94 2.06-2.06.94z\"/><path d=\"M17.41 7.96l-1.37-1.37c-.4-.4-.92-.59-1.43-.59-.52 0-1.04.2-1.43.59L10.3 9.45l-7.72 7.72c-.78.78-.78 2.05 0 2.83L4 21.41c.39.39.9.59 1.41.59.51 0 1.02-.2 1.41-.59l7.78-7.78 2.81-2.81c.8-.78.8-2.07 0-2.86zM5.41 20L4 18.59l7.72-7.72 1.47 1.35L5.41 20z\"/>\n",
              "  </svg>\n",
              "      </button>\n",
              "      \n",
              "  <style>\n",
              "    .colab-df-container {\n",
              "      display:flex;\n",
              "      flex-wrap:wrap;\n",
              "      gap: 12px;\n",
              "    }\n",
              "\n",
              "    .colab-df-convert {\n",
              "      background-color: #E8F0FE;\n",
              "      border: none;\n",
              "      border-radius: 50%;\n",
              "      cursor: pointer;\n",
              "      display: none;\n",
              "      fill: #1967D2;\n",
              "      height: 32px;\n",
              "      padding: 0 0 0 0;\n",
              "      width: 32px;\n",
              "    }\n",
              "\n",
              "    .colab-df-convert:hover {\n",
              "      background-color: #E2EBFA;\n",
              "      box-shadow: 0px 1px 2px rgba(60, 64, 67, 0.3), 0px 1px 3px 1px rgba(60, 64, 67, 0.15);\n",
              "      fill: #174EA6;\n",
              "    }\n",
              "\n",
              "    [theme=dark] .colab-df-convert {\n",
              "      background-color: #3B4455;\n",
              "      fill: #D2E3FC;\n",
              "    }\n",
              "\n",
              "    [theme=dark] .colab-df-convert:hover {\n",
              "      background-color: #434B5C;\n",
              "      box-shadow: 0px 1px 3px 1px rgba(0, 0, 0, 0.15);\n",
              "      filter: drop-shadow(0px 1px 2px rgba(0, 0, 0, 0.3));\n",
              "      fill: #FFFFFF;\n",
              "    }\n",
              "  </style>\n",
              "\n",
              "      <script>\n",
              "        const buttonEl =\n",
              "          document.querySelector('#df-f1740c8b-02e8-41a7-9354-e4b29e3fd0c6 button.colab-df-convert');\n",
              "        buttonEl.style.display =\n",
              "          google.colab.kernel.accessAllowed ? 'block' : 'none';\n",
              "\n",
              "        async function convertToInteractive(key) {\n",
              "          const element = document.querySelector('#df-f1740c8b-02e8-41a7-9354-e4b29e3fd0c6');\n",
              "          const dataTable =\n",
              "            await google.colab.kernel.invokeFunction('convertToInteractive',\n",
              "                                                     [key], {});\n",
              "          if (!dataTable) return;\n",
              "\n",
              "          const docLinkHtml = 'Like what you see? Visit the ' +\n",
              "            '<a target=\"_blank\" href=https://colab.research.google.com/notebooks/data_table.ipynb>data table notebook</a>'\n",
              "            + ' to learn more about interactive tables.';\n",
              "          element.innerHTML = '';\n",
              "          dataTable['output_type'] = 'display_data';\n",
              "          await google.colab.output.renderOutput(dataTable, element);\n",
              "          const docLink = document.createElement('div');\n",
              "          docLink.innerHTML = docLinkHtml;\n",
              "          element.appendChild(docLink);\n",
              "        }\n",
              "      </script>\n",
              "    </div>\n",
              "  </div>\n",
              "  "
            ]
          },
          "metadata": {},
          "execution_count": 13
        }
      ]
    },
    {
      "cell_type": "code",
      "source": [
        "#Exemple de personnes uniques avec des date de naissance différentes\n",
        "#cas1\n",
        "#df[df['id record'] == 'B_9352']\n",
        "#cas2\n",
        "df[df['id record'] == 'B_338']"
      ],
      "metadata": {
        "id": "Efxh-VJ9rcuS",
        "colab": {
          "base_uri": "https://localhost:8080/",
          "height": 178
        },
        "outputId": "912d9ff6-971e-47d1-bf5d-03394c91db38"
      },
      "id": "Efxh-VJ9rcuS",
      "execution_count": null,
      "outputs": [
        {
          "output_type": "execute_result",
          "data": {
            "text/plain": [
              "    given_name surname  street_number      address_1 address_2       suburb  \\\n",
              "338       hand  zarlia            2.0  quiros street   naranda  arana ihlls   \n",
              "\n",
              "     postcode state date_of_birth  soc_sec_id id record  year_of_birth  \n",
              "338      2250    st    1910-12-26     1904897     B_338         1910.0  "
            ],
            "text/html": [
              "\n",
              "  <div id=\"df-daada13f-c8f9-4e5e-ae1f-ba6a7b2a72ec\">\n",
              "    <div class=\"colab-df-container\">\n",
              "      <div>\n",
              "<style scoped>\n",
              "    .dataframe tbody tr th:only-of-type {\n",
              "        vertical-align: middle;\n",
              "    }\n",
              "\n",
              "    .dataframe tbody tr th {\n",
              "        vertical-align: top;\n",
              "    }\n",
              "\n",
              "    .dataframe thead th {\n",
              "        text-align: right;\n",
              "    }\n",
              "</style>\n",
              "<table border=\"1\" class=\"dataframe\">\n",
              "  <thead>\n",
              "    <tr style=\"text-align: right;\">\n",
              "      <th></th>\n",
              "      <th>given_name</th>\n",
              "      <th>surname</th>\n",
              "      <th>street_number</th>\n",
              "      <th>address_1</th>\n",
              "      <th>address_2</th>\n",
              "      <th>suburb</th>\n",
              "      <th>postcode</th>\n",
              "      <th>state</th>\n",
              "      <th>date_of_birth</th>\n",
              "      <th>soc_sec_id</th>\n",
              "      <th>id record</th>\n",
              "      <th>year_of_birth</th>\n",
              "    </tr>\n",
              "  </thead>\n",
              "  <tbody>\n",
              "    <tr>\n",
              "      <th>338</th>\n",
              "      <td>hand</td>\n",
              "      <td>zarlia</td>\n",
              "      <td>2.0</td>\n",
              "      <td>quiros street</td>\n",
              "      <td>naranda</td>\n",
              "      <td>arana ihlls</td>\n",
              "      <td>2250</td>\n",
              "      <td>st</td>\n",
              "      <td>1910-12-26</td>\n",
              "      <td>1904897</td>\n",
              "      <td>B_338</td>\n",
              "      <td>1910.0</td>\n",
              "    </tr>\n",
              "  </tbody>\n",
              "</table>\n",
              "</div>\n",
              "      <button class=\"colab-df-convert\" onclick=\"convertToInteractive('df-daada13f-c8f9-4e5e-ae1f-ba6a7b2a72ec')\"\n",
              "              title=\"Convert this dataframe to an interactive table.\"\n",
              "              style=\"display:none;\">\n",
              "        \n",
              "  <svg xmlns=\"http://www.w3.org/2000/svg\" height=\"24px\"viewBox=\"0 0 24 24\"\n",
              "       width=\"24px\">\n",
              "    <path d=\"M0 0h24v24H0V0z\" fill=\"none\"/>\n",
              "    <path d=\"M18.56 5.44l.94 2.06.94-2.06 2.06-.94-2.06-.94-.94-2.06-.94 2.06-2.06.94zm-11 1L8.5 8.5l.94-2.06 2.06-.94-2.06-.94L8.5 2.5l-.94 2.06-2.06.94zm10 10l.94 2.06.94-2.06 2.06-.94-2.06-.94-.94-2.06-.94 2.06-2.06.94z\"/><path d=\"M17.41 7.96l-1.37-1.37c-.4-.4-.92-.59-1.43-.59-.52 0-1.04.2-1.43.59L10.3 9.45l-7.72 7.72c-.78.78-.78 2.05 0 2.83L4 21.41c.39.39.9.59 1.41.59.51 0 1.02-.2 1.41-.59l7.78-7.78 2.81-2.81c.8-.78.8-2.07 0-2.86zM5.41 20L4 18.59l7.72-7.72 1.47 1.35L5.41 20z\"/>\n",
              "  </svg>\n",
              "      </button>\n",
              "      \n",
              "  <style>\n",
              "    .colab-df-container {\n",
              "      display:flex;\n",
              "      flex-wrap:wrap;\n",
              "      gap: 12px;\n",
              "    }\n",
              "\n",
              "    .colab-df-convert {\n",
              "      background-color: #E8F0FE;\n",
              "      border: none;\n",
              "      border-radius: 50%;\n",
              "      cursor: pointer;\n",
              "      display: none;\n",
              "      fill: #1967D2;\n",
              "      height: 32px;\n",
              "      padding: 0 0 0 0;\n",
              "      width: 32px;\n",
              "    }\n",
              "\n",
              "    .colab-df-convert:hover {\n",
              "      background-color: #E2EBFA;\n",
              "      box-shadow: 0px 1px 2px rgba(60, 64, 67, 0.3), 0px 1px 3px 1px rgba(60, 64, 67, 0.15);\n",
              "      fill: #174EA6;\n",
              "    }\n",
              "\n",
              "    [theme=dark] .colab-df-convert {\n",
              "      background-color: #3B4455;\n",
              "      fill: #D2E3FC;\n",
              "    }\n",
              "\n",
              "    [theme=dark] .colab-df-convert:hover {\n",
              "      background-color: #434B5C;\n",
              "      box-shadow: 0px 1px 3px 1px rgba(0, 0, 0, 0.15);\n",
              "      filter: drop-shadow(0px 1px 2px rgba(0, 0, 0, 0.3));\n",
              "      fill: #FFFFFF;\n",
              "    }\n",
              "  </style>\n",
              "\n",
              "      <script>\n",
              "        const buttonEl =\n",
              "          document.querySelector('#df-daada13f-c8f9-4e5e-ae1f-ba6a7b2a72ec button.colab-df-convert');\n",
              "        buttonEl.style.display =\n",
              "          google.colab.kernel.accessAllowed ? 'block' : 'none';\n",
              "\n",
              "        async function convertToInteractive(key) {\n",
              "          const element = document.querySelector('#df-daada13f-c8f9-4e5e-ae1f-ba6a7b2a72ec');\n",
              "          const dataTable =\n",
              "            await google.colab.kernel.invokeFunction('convertToInteractive',\n",
              "                                                     [key], {});\n",
              "          if (!dataTable) return;\n",
              "\n",
              "          const docLinkHtml = 'Like what you see? Visit the ' +\n",
              "            '<a target=\"_blank\" href=https://colab.research.google.com/notebooks/data_table.ipynb>data table notebook</a>'\n",
              "            + ' to learn more about interactive tables.';\n",
              "          element.innerHTML = '';\n",
              "          dataTable['output_type'] = 'display_data';\n",
              "          await google.colab.output.renderOutput(dataTable, element);\n",
              "          const docLink = document.createElement('div');\n",
              "          docLink.innerHTML = docLinkHtml;\n",
              "          element.appendChild(docLink);\n",
              "        }\n",
              "      </script>\n",
              "    </div>\n",
              "  </div>\n",
              "  "
            ]
          },
          "metadata": {},
          "execution_count": 47
        }
      ]
    },
    {
      "cell_type": "code",
      "source": [
        "#cas1\n",
        "#df[df['id record'] == 'B_10854']\n",
        "#cas2\n",
        "df[df['id record'] == 'B_3081']"
      ],
      "metadata": {
        "colab": {
          "base_uri": "https://localhost:8080/",
          "height": 178
        },
        "id": "Ot5dIzLj0mJb",
        "outputId": "2902fed3-624e-47b3-c559-17b76b789dcf"
      },
      "id": "Ot5dIzLj0mJb",
      "execution_count": null,
      "outputs": [
        {
          "output_type": "execute_result",
          "data": {
            "text/plain": [
              "     given_name surname  street_number      address_1 address_2       suburb  \\\n",
              "3081       hand  zarlia            2.0  quiros street   naranda  arana ihlls   \n",
              "\n",
              "      postcode state date_of_birth  soc_sec_id id record  year_of_birth  \n",
              "3081      2250    st    1910-12-25     1904897    B_3081         1910.0  "
            ],
            "text/html": [
              "\n",
              "  <div id=\"df-7fd45af4-ccf4-4e18-94d2-cd84ff768b47\">\n",
              "    <div class=\"colab-df-container\">\n",
              "      <div>\n",
              "<style scoped>\n",
              "    .dataframe tbody tr th:only-of-type {\n",
              "        vertical-align: middle;\n",
              "    }\n",
              "\n",
              "    .dataframe tbody tr th {\n",
              "        vertical-align: top;\n",
              "    }\n",
              "\n",
              "    .dataframe thead th {\n",
              "        text-align: right;\n",
              "    }\n",
              "</style>\n",
              "<table border=\"1\" class=\"dataframe\">\n",
              "  <thead>\n",
              "    <tr style=\"text-align: right;\">\n",
              "      <th></th>\n",
              "      <th>given_name</th>\n",
              "      <th>surname</th>\n",
              "      <th>street_number</th>\n",
              "      <th>address_1</th>\n",
              "      <th>address_2</th>\n",
              "      <th>suburb</th>\n",
              "      <th>postcode</th>\n",
              "      <th>state</th>\n",
              "      <th>date_of_birth</th>\n",
              "      <th>soc_sec_id</th>\n",
              "      <th>id record</th>\n",
              "      <th>year_of_birth</th>\n",
              "    </tr>\n",
              "  </thead>\n",
              "  <tbody>\n",
              "    <tr>\n",
              "      <th>3081</th>\n",
              "      <td>hand</td>\n",
              "      <td>zarlia</td>\n",
              "      <td>2.0</td>\n",
              "      <td>quiros street</td>\n",
              "      <td>naranda</td>\n",
              "      <td>arana ihlls</td>\n",
              "      <td>2250</td>\n",
              "      <td>st</td>\n",
              "      <td>1910-12-25</td>\n",
              "      <td>1904897</td>\n",
              "      <td>B_3081</td>\n",
              "      <td>1910.0</td>\n",
              "    </tr>\n",
              "  </tbody>\n",
              "</table>\n",
              "</div>\n",
              "      <button class=\"colab-df-convert\" onclick=\"convertToInteractive('df-7fd45af4-ccf4-4e18-94d2-cd84ff768b47')\"\n",
              "              title=\"Convert this dataframe to an interactive table.\"\n",
              "              style=\"display:none;\">\n",
              "        \n",
              "  <svg xmlns=\"http://www.w3.org/2000/svg\" height=\"24px\"viewBox=\"0 0 24 24\"\n",
              "       width=\"24px\">\n",
              "    <path d=\"M0 0h24v24H0V0z\" fill=\"none\"/>\n",
              "    <path d=\"M18.56 5.44l.94 2.06.94-2.06 2.06-.94-2.06-.94-.94-2.06-.94 2.06-2.06.94zm-11 1L8.5 8.5l.94-2.06 2.06-.94-2.06-.94L8.5 2.5l-.94 2.06-2.06.94zm10 10l.94 2.06.94-2.06 2.06-.94-2.06-.94-.94-2.06-.94 2.06-2.06.94z\"/><path d=\"M17.41 7.96l-1.37-1.37c-.4-.4-.92-.59-1.43-.59-.52 0-1.04.2-1.43.59L10.3 9.45l-7.72 7.72c-.78.78-.78 2.05 0 2.83L4 21.41c.39.39.9.59 1.41.59.51 0 1.02-.2 1.41-.59l7.78-7.78 2.81-2.81c.8-.78.8-2.07 0-2.86zM5.41 20L4 18.59l7.72-7.72 1.47 1.35L5.41 20z\"/>\n",
              "  </svg>\n",
              "      </button>\n",
              "      \n",
              "  <style>\n",
              "    .colab-df-container {\n",
              "      display:flex;\n",
              "      flex-wrap:wrap;\n",
              "      gap: 12px;\n",
              "    }\n",
              "\n",
              "    .colab-df-convert {\n",
              "      background-color: #E8F0FE;\n",
              "      border: none;\n",
              "      border-radius: 50%;\n",
              "      cursor: pointer;\n",
              "      display: none;\n",
              "      fill: #1967D2;\n",
              "      height: 32px;\n",
              "      padding: 0 0 0 0;\n",
              "      width: 32px;\n",
              "    }\n",
              "\n",
              "    .colab-df-convert:hover {\n",
              "      background-color: #E2EBFA;\n",
              "      box-shadow: 0px 1px 2px rgba(60, 64, 67, 0.3), 0px 1px 3px 1px rgba(60, 64, 67, 0.15);\n",
              "      fill: #174EA6;\n",
              "    }\n",
              "\n",
              "    [theme=dark] .colab-df-convert {\n",
              "      background-color: #3B4455;\n",
              "      fill: #D2E3FC;\n",
              "    }\n",
              "\n",
              "    [theme=dark] .colab-df-convert:hover {\n",
              "      background-color: #434B5C;\n",
              "      box-shadow: 0px 1px 3px 1px rgba(0, 0, 0, 0.15);\n",
              "      filter: drop-shadow(0px 1px 2px rgba(0, 0, 0, 0.3));\n",
              "      fill: #FFFFFF;\n",
              "    }\n",
              "  </style>\n",
              "\n",
              "      <script>\n",
              "        const buttonEl =\n",
              "          document.querySelector('#df-7fd45af4-ccf4-4e18-94d2-cd84ff768b47 button.colab-df-convert');\n",
              "        buttonEl.style.display =\n",
              "          google.colab.kernel.accessAllowed ? 'block' : 'none';\n",
              "\n",
              "        async function convertToInteractive(key) {\n",
              "          const element = document.querySelector('#df-7fd45af4-ccf4-4e18-94d2-cd84ff768b47');\n",
              "          const dataTable =\n",
              "            await google.colab.kernel.invokeFunction('convertToInteractive',\n",
              "                                                     [key], {});\n",
              "          if (!dataTable) return;\n",
              "\n",
              "          const docLinkHtml = 'Like what you see? Visit the ' +\n",
              "            '<a target=\"_blank\" href=https://colab.research.google.com/notebooks/data_table.ipynb>data table notebook</a>'\n",
              "            + ' to learn more about interactive tables.';\n",
              "          element.innerHTML = '';\n",
              "          dataTable['output_type'] = 'display_data';\n",
              "          await google.colab.output.renderOutput(dataTable, element);\n",
              "          const docLink = document.createElement('div');\n",
              "          docLink.innerHTML = docLinkHtml;\n",
              "          element.appendChild(docLink);\n",
              "        }\n",
              "      </script>\n",
              "    </div>\n",
              "  </div>\n",
              "  "
            ]
          },
          "metadata": {},
          "execution_count": 48
        }
      ]
    },
    {
      "cell_type": "markdown",
      "source": [
        "### Cas de dates de naissance non renseignées"
      ],
      "metadata": {
        "id": "nYwSdKd_3Jy_"
      },
      "id": "nYwSdKd_3Jy_"
    },
    {
      "cell_type": "markdown",
      "source": [
        "Notons également que certaines dates de naissance (et donc années associées) ne sont pas renseignées. Ce point sera à prendre en compte si l'on envisage de baser notre méthode de blocks sur l'année de naissance.``\n",
        "Nous seront obligés d'envisager un traitement ad-hoc pour ces cas particuliers."
      ],
      "metadata": {
        "id": "V2q0T9nLXKbh"
      },
      "id": "V2q0T9nLXKbh"
    },
    {
      "cell_type": "markdown",
      "source": [],
      "metadata": {
        "id": "rvevlgRe3v9j"
      },
      "id": "rvevlgRe3v9j"
    },
    {
      "cell_type": "code",
      "source": [
        "#certaines date de naissance ne sont pas renseignées ...1361 au total\n",
        "len(df[df['date_of_birth'].isna()]['date_of_birth'])"
      ],
      "metadata": {
        "colab": {
          "base_uri": "https://localhost:8080/"
        },
        "id": "NRFatTad3Y2i",
        "outputId": "0a15f066-7f55-4155-bbdd-d3dc6fd37b4f"
      },
      "id": "NRFatTad3Y2i",
      "execution_count": null,
      "outputs": [
        {
          "output_type": "execute_result",
          "data": {
            "text/plain": [
              "1361"
            ]
          },
          "metadata": {},
          "execution_count": 20
        }
      ]
    },
    {
      "cell_type": "markdown",
      "id": "233319aa",
      "metadata": {
        "id": "233319aa"
      },
      "source": [
        "##Presentation de la methodologie\n",
        "Avant de procéder à la création du modèle, nous nous sommes posées 3 questions : \n",
        " - Quel est le meilleur attribut pour définir les blocs ?\n",
        " - Comment déterminer la similarité entre les enregistrements ? \n",
        " - Comment déterminer la performance de notre modèle ?\n",
        "\n",
        "Nous aborderons ces sujets en détail dans les sections suivantes.\n"
      ]
    },
    {
      "cell_type": "markdown",
      "source": [
        "###Définition de la méthode de blocage\n",
        "Pour parcourir le jeu de données, différentes méthodes peuvent être appliquées: \n",
        "- une recherche exhaustive, où toutes les pairs de l'ensemble de données sont comparées (démarche très couteuse, coût = ~theta(n^2) où n est le nombre d'éléments à parcourir) ;\n",
        "- la méthode Sorted Neighborhood Method (SNM), qui trie les enregistrements sur la base d'une clé et déplace ensuite une fenêtre de taille fixe sur les enregistrements triés (méthode qui fonctionne si l'on arrive à trier & regrouper les doublons potentiels... et trouver la bonne taille de fenêtre) ;\n",
        "- la **méthode de blocage que nous utiliserons dans ce projet** comme demandé.\n",
        "\n",
        "La méthode du blocage consiste à diviser l'ensemble de données en partitions disjointes (blocs), puis à comparer toutes les paires uniquement à l'intérieur de chaque bloc (pour une taille données 'n', et un nombre de blocs 'b', le nombre de comparaison est divisé par b). A priori avoir un nombre élevé de 'b' n'est pas un problème.L'enjeu sera plutôt de choisir un critère qui maximise la probabilité de regroupement des 'duplicate candidates' au sein d'un même bloc.\n",
        "\n",
        "Après réflexion, nous avons identifié deux attributs potentiels adpatés que nous avons testés. Nous allons ainsi fournir deux modèles, chacun d'entre eux étant basé sur un attribut différent pour définir les blocs:\n",
        "- l'**année de naissance** et \n",
        "- le **numéro de sécurité sociale**.\n",
        "\n",
        "**Année de naissance**\n",
        "\n",
        "L'année de naissance nous parait en ligne avec le fait de maximiser la probabilité de regroupement des 'duplicate candidates' au sein d'un même bloc, sans compter que ce critère limite aussi les risques d'homonymie (par année). \n",
        "Nous avons également pu vérifier la bonne répartition des élèves par année de naissance.\n",
        "\n",
        "Le nombre d'années (100) ne constitue pas un obstacle, car du point de vue alogorithme on a beaucoup plus à gagner en réduisant la taille des blocs en augmentant le nombre de ceux ci (comme mentionné précédement).\n",
        "\n",
        "A noter que l'on aurait pu pousser l'approche en découpant par mois...mais il nous a semblé prudent de considérer de possible erreurs de saisie sur les mois (plus que sur les années). Cela reste une hypothèse de travail qu'il est facile de modifier.\n",
        "\n",
        "En utilisant l'année de naissance pour définir les blocs:\n",
        "- notons que l'hypothèse sous-jacente est qu'il n'y a pas eu d'erreur dans la saisie sur l'année  \n",
        "- qu'il existe des valeurs nulles pour l'année de naissance ce qui nous obligera à envisager un traitement ad-hoc pour ces enregistrements.\n",
        "\n",
        "\n",
        "**Numéro de sécurité sociale** \n",
        "\n",
        "Le numéro de sécurité sociale nous semble être une autre approche qui va dans le sens d'une maximisation de la probabilité de regrouper les candidats en double dans un même bloc, avec en plus le gros avantage que cette valeur n'est jamais nulle.\n",
        "\n",
        "En l'utilisant, nous supposerons qu'il n'y a pas d'erreur de saisie dans les trois premiers chiffres (c'est à dire au-delà des centaines exclues). La base de données sera donc divisée en 900 blocs avec un intervalle de 10 000. Notons que dans cette approche nous sommes permis de tester un très grand nombre de blocs..intéressant pour vérifier l'impact de réduire la taille des blocs.\n",
        "\n",
        "La distribution dans le bloc ne sera pas homogène (de 0 a 85 enregistrement) et certains blocs seront également vides (3 blocs), mais cela n’impactera pas les performances et nous traiterons le cas de blocs vides directement dans l'algorithme de détection.\n",
        "\n",
        "\n"
      ],
      "metadata": {
        "id": "ZHWZFFP91rfx"
      },
      "id": "ZHWZFFP91rfx"
    },
    {
      "cell_type": "code",
      "source": [
        "# Vérifier si les années ont la même distribution pour créer des blocs\n",
        "plt.hist(df[\"year_of_birth\"])\n",
        "plt.show()"
      ],
      "metadata": {
        "colab": {
          "base_uri": "https://localhost:8080/",
          "height": 430
        },
        "id": "RLi0ypwR1o1H",
        "outputId": "655709d2-6fa0-4ca1-8af2-c290315f122f"
      },
      "id": "RLi0ypwR1o1H",
      "execution_count": null,
      "outputs": [
        {
          "output_type": "display_data",
          "data": {
            "text/plain": [
              "<Figure size 640x480 with 1 Axes>"
            ],
            "image/png": "[encoded data removed]"
          },
          "metadata": {}
        }
      ]
    },
    {
      "cell_type": "code",
      "source": [
        "# Vérifier l'intervalle des numéros de sécurité sociale et la distribution\n",
        "min_soc_sec = min(df['soc_sec_id'])\n",
        "max_soc_sec = max(df['soc_sec_id'])\n",
        "print(f'Intervalle des numéros de sécurité sociale: de {min_soc_sec} a {max_soc_sec }')\n",
        "\n",
        "plt.hist(df['soc_sec_id'], bins=900)\n",
        "plt.show()"
      ],
      "metadata": {
        "colab": {
          "base_uri": "https://localhost:8080/",
          "height": 466
        },
        "id": "PEnL2gdZDXEw",
        "outputId": "03ded486-2abb-42e2-fd72-1bc24c7323df"
      },
      "id": "PEnL2gdZDXEw",
      "execution_count": null,
      "outputs": [
        {
          "output_type": "stream",
          "name": "stdout",
          "text": [
            "Intervalle des numéros de sécurité sociale: de 1000123 a 9996479\n"
          ]
        },
        {
          "output_type": "display_data",
          "data": {
            "text/plain": [
              "<Figure size 640x480 with 1 Axes>"
            ],
            "image/png": "[encoded data removed]"
          },
          "metadata": {}
        }
      ]
    },
    {
      "cell_type": "markdown",
      "source": [
        "###Définition de la méthode de détection des doublons \n",
        "\n",
        "Lors de la définition de la règle à utiliser pour détecter les enregistrements dupliqués, nous nous sommes demandé quelle était la méthode la plus appropriée selon la nature des attributs.\n",
        "\n",
        "**Edit distance metric est basé sur la comparaison de chaines de charactères, ce qui est bien adapté pour des noms, prénoms, dénominations** ou liste de 'chiffres' mais ne l'est pas pour des **adresses qui sont des blocs / tokens séparés par des espaces  et pour lesquels 'Jaccard Distance'** convient mieux. En revanche dans notre cas, les adresses comprenent un token voire 2 de taille très variable. Rajouter un découpage par 'n-gram' sur les lettres ou sur les 'tokens' ne nous semblent pas utile.\n",
        "\n",
        "\n",
        "Concernant le choix des attributs à priviliger, il nous a semblé qu'une combinaison de trois attributs parmi nom ('surname'),prénom ('given_name'),état ('state'),code postal ('postcode) et 'soc_sec_id' était un bon compromis. Le choix 3 attributs réduisant les risques d'erreur (faux positif)... certains attributs ciblant plus directement une personne et d'autres étant \"juste\" disponibles. Nous avons choisi la **Levenshtein edit-distance** pour la raison invoquée précédemment. \n",
        "\n",
        "Compte-tenu du nombre de cellules vides, il ne sera pas possible dans certains cas, d'avoir 3 de ces critères simultanément. Dans ces cas, nous utiliserons les adresses et l'attribut 'suburb' dont les distances seront évaluées avec la **Jaccard distance** (sans n-gram et tokenisation).\n",
        "\n",
        "Nous utiliserons la librairie NLTK (Natural Language Toolkit) pour le traitement symbolique et statistique du langage naturel.\n",
        "\n",
        "A noter que le choix de 3 attributs aura un impact les temps d'exécution tout en restant dans le raisonnable (grâce au blocking). C'est un choix assumé car nous priviligions la qualité et l'exhaustivité des détections."
      ],
      "metadata": {
        "id": "YKNkE9K07J45"
      },
      "id": "YKNkE9K07J45"
    },
    {
      "cell_type": "markdown",
      "source": [
        "### Matrice de confusion\n",
        "Nous avions espéré pouvoir mettre en place une métric d'évaluation de notre modèle avec la création d'une matrice de confusion. \n",
        "\n",
        "Pour faire cela, l'attribut 'soc_sec_id' nous semblait idéal (à la fois complet et lorsque correctement saisi, unique par personne). \n",
        "\n",
        "Nous avons cependant constaté que ce champ n'était pas unique par personne (cf. paragraphe initial d'exploration des données où l'on montre des exemples de personnes uniques avec plusieurs valeurs) ce qui le rendait impropre à la création d'une matrice de confusion.\n",
        "\n",
        "NB : l'attribut id record n'est pas utilisable car il identifie les enregistrements et non les personnes"
      ],
      "metadata": {
        "id": "BWuJEuUp9QK1"
      },
      "id": "BWuJEuUp9QK1"
    },
    {
      "cell_type": "markdown",
      "source": [
        "## Models de détection des doublons\n",
        "Dans cette partie, nous présenterons deux modèles différents basés sur la méthodologie et l'approche décrites ci-dessus et que nous comparerons selon deux critères : maximisation du nombre de lignes analysées (capacité à trouver une méthode pour conserver les lignes avec des cellules à \"Na\") et rapidité d'exécution.\n",
        "\n",
        "Nous appliquerons un algorithme itératif à chaque bloc qui prend chaque combinaison d'enregistrements dans le bloc et si la paire correspond à la règle définie, elle est enregistrée comme (record_id1, record_id1) dans la liste \"matches\".\n",
        "\n",
        "Pour rappel, dans nos modèles, nous avons considéré que trois attributs étaient un bon compromis en terme d'efficacité versus rapiditié afin de détecter les doublons tout en réduisant les risque d'homonymies et le nombre de faux positifs."
      ],
      "metadata": {
        "id": "_35OVTgK_Md5"
      },
      "id": "_35OVTgK_Md5"
    },
    {
      "cell_type": "markdown",
      "source": [
        "### Model 1 basé sur l'utilisation de **3 attributs et la gestion des exceptions dans Pyhton** \n",
        "\n",
        "Nous avons pris les attributs 'PostCode' et 'Soc_sec_id' qui présentent l'avantage d'être toujours renseignés (mais parfois avec des erreurs de saisies) et un attribut pris au choix parmi \"Surname ou Given_Name ou State\" selon que les valeurs sont renseignées ou non (grâce à la  **gestion des exceptions**), afin de préserver autant que possible le nombre  d'enregistrements analysés.\n",
        "\n",
        "Cet modèle comprend deux parties :\n",
        "La 1iere partie utilise **edit distance** sur les attributs qui s'y prêtent bien (surname,givename,state,postcode).\n",
        "\n",
        "La 2ieme partie se focalise sur les lignes qui n'ont pas pues être traitées dans la 1iere partie (suite au retrait des lignes avec des cellules à 'na') et utilise **jaccard distance** sur les attributs adresse (1 & 2) et suburb.\n",
        "\n"
      ],
      "metadata": {
        "id": "GoQVUpZO_NL4"
      },
      "id": "GoQVUpZO_NL4"
    },
    {
      "cell_type": "code",
      "source": [
        "#calcul du nombre de lignes non prises en compte par cet algorithme\n",
        "\n",
        "df_etudiants_clean=df.dropna(subset=['given_name']).dropna(subset=['surname']).dropna(subset=['state']).dropna(subset=['date_of_birth'])\n",
        "df_etudiants_solde=pd.concat([df,df_etudiants_clean]).drop_duplicates(keep=False)"
      ],
      "metadata": {
        "id": "8FyyEI734HiD"
      },
      "id": "8FyyEI734HiD",
      "execution_count": null,
      "outputs": []
    },
    {
      "cell_type": "code",
      "source": [
        "#cette partie va pouvoir parcourir 21 485 enregistrements\n",
        "df.count()-df_etudiants_solde.count()"
      ],
      "metadata": {
        "colab": {
          "base_uri": "https://localhost:8080/"
        },
        "id": "bUm3tI4y_5EB",
        "outputId": "c855f4a6-6944-4a92-b9f4-54a39099c136"
      },
      "id": "bUm3tI4y_5EB",
      "execution_count": null,
      "outputs": [
        {
          "output_type": "execute_result",
          "data": {
            "text/plain": [
              "given_name       21485\n",
              "surname          21485\n",
              "street_number    20320\n",
              "address_1        20561\n",
              "address_2        17777\n",
              "suburb           21035\n",
              "postcode         21485\n",
              "state            21485\n",
              "date_of_birth    21485\n",
              "soc_sec_id       21485\n",
              "id record        21485\n",
              "year_of_birth    21485\n",
              "dtype: int64"
            ]
          },
          "metadata": {},
          "execution_count": 15
        }
      ]
    },
    {
      "cell_type": "markdown",
      "source": [
        "partie 1 : détection des doublons sur les attributs pour lesquels Edit Distance est adapté"
      ],
      "metadata": {
        "id": "Ja59k3Y2QjUV"
      },
      "id": "Ja59k3Y2QjUV"
    },
    {
      "cell_type": "code",
      "source": [
        "#préparation des blocks sur la base des années renseignées\n",
        "df_prep=df.dropna(subset=['year_of_birth']) #ici choix de supprimer les années à \"Na\"\n",
        "#contrôle\n",
        "#df_prep[df_prep['year_of_birth'].isna()].sum()\n",
        "list_year=list(df_prep.groupby('year_of_birth')['year_of_birth'].unique())\n",
        "blocks = []\n",
        "for i in list_year:\n",
        "    blocks.append(df.loc[df['year_of_birth'] == i[0]])"
      ],
      "metadata": {
        "id": "EJSG_WAF4l37"
      },
      "id": "EJSG_WAF4l37",
      "execution_count": null,
      "outputs": []
    },
    {
      "cell_type": "code",
      "source": [
        "#df.columns # vérification des indices des colonnes"
      ],
      "metadata": {
        "colab": {
          "base_uri": "https://localhost:8080/"
        },
        "id": "yGH1Wgqn95fs",
        "outputId": "c397fa89-b867-459b-f31a-22fee16a5210"
      },
      "id": "yGH1Wgqn95fs",
      "execution_count": null,
      "outputs": [
        {
          "output_type": "execute_result",
          "data": {
            "text/plain": [
              "Index(['given_name', 'surname', 'street_number', 'address_1', 'address_2',\n",
              "       'suburb', 'postcode', 'state', 'date_of_birth', 'soc_sec_id',\n",
              "       'id record', 'year_of_birth'],\n",
              "      dtype='object')"
            ]
          },
          "metadata": {},
          "execution_count": 26
        }
      ]
    },
    {
      "cell_type": "code",
      "source": [
        "#corps principal avec recherche de doublons sur 3 critères suivants : postcode & socscid et (surname ou givenname ou state)\n",
        "#partant du principe que 3 critères satisfaits réduisent fortement le risque d'homonymie\n",
        "\n",
        "matches = []\n",
        "number_of_matches = 0\n",
        "start = time.process_time()\n",
        "\n",
        "for block in blocks:\n",
        "    num_records = len(block)\n",
        "    print(\"num_records of the block is {} et année is {} \".format(num_records,block.iloc[0,11])) #year_of_birth #11\n",
        "    for i in range(0,num_records):\n",
        "         for j in range(i+1,num_records): \n",
        "            score_postcode=nltk.edit_distance(str(block.iloc[i,6]), str(block.iloc[j,6])) #postcode #6\n",
        "            score_socsecid=nltk.edit_distance(str(block.iloc[i,9]), str(block.iloc[j,9]))  #soc_sec_id #9\n",
        "            try:\n",
        "                score_surname = nltk.edit_distance(block.iloc[i,1], block.iloc[j,1])  #surname #1\n",
        "                if (score_postcode <= 2) and (score_socsecid <= 2) and (score_surname <= 2):\n",
        "                    number_of_matches = number_of_matches +1 \n",
        "                    matches.append((block.iloc[i,10],block.iloc[j,10])) #od record #10\n",
        "            except(TypeError):\n",
        "                try:\n",
        "                    score_givenname = nltk.edit_distance(block.iloc[i,0], block.iloc[j,0]) #givename #0\n",
        "                    if (score_givenname <= 2) and (score_postcode <= 2) and (score_socsecid <= 2):\n",
        "                        number_of_matches = number_of_matches +1 \n",
        "                        matches.append((block.iloc[i,10],block.iloc[j,10]))\n",
        "                except(TypeError):\n",
        "                    try:\n",
        "                        score_state = nltk.edit_distance(block.iloc[i,7], block.iloc[j,7]) #state #7\n",
        "                        if (score_state <= 2) and (score_postcode <= 2) and (score_socsecid <= 2):\n",
        "                            number_of_matches = number_of_matches +1 \n",
        "                            matches.append((block.iloc[i,10],block.iloc[j,10]))\n",
        "                    except(TypeError):\n",
        "                        pass\n",
        "\n",
        "end = time.process_time()\n",
        "\n",
        "print(\"Number of matches: {}\".format(number_of_matches))\n",
        "print(\"Processing time: {}\".format(end - start))  "
      ],
      "metadata": {
        "id": "twvL5B7W49Bx",
        "colab": {
          "base_uri": "https://localhost:8080/"
        },
        "outputId": "587bdb58-5520-44a8-c735-06b35e104aa1"
      },
      "id": "twvL5B7W49Bx",
      "execution_count": null,
      "outputs": [
        {
          "output_type": "stream",
          "name": "stdout",
          "text": [
            "num_records of the block is 287 et année is 1900.0 \n",
            "num_records of the block is 240 et année is 1901.0 \n",
            "num_records of the block is 277 et année is 1902.0 \n",
            "num_records of the block is 298 et année is 1903.0 \n",
            "num_records of the block is 232 et année is 1904.0 \n",
            "num_records of the block is 235 et année is 1905.0 \n",
            "num_records of the block is 250 et année is 1906.0 \n",
            "num_records of the block is 168 et année is 1907.0 \n",
            "num_records of the block is 214 et année is 1908.0 \n",
            "num_records of the block is 280 et année is 1909.0 \n",
            "num_records of the block is 261 et année is 1910.0 \n",
            "num_records of the block is 244 et année is 1911.0 \n",
            "num_records of the block is 259 et année is 1912.0 \n",
            "num_records of the block is 297 et année is 1913.0 \n",
            "num_records of the block is 261 et année is 1914.0 \n",
            "num_records of the block is 272 et année is 1915.0 \n",
            "num_records of the block is 282 et année is 1916.0 \n",
            "num_records of the block is 282 et année is 1917.0 \n",
            "num_records of the block is 281 et année is 1918.0 \n",
            "num_records of the block is 192 et année is 1919.0 \n",
            "num_records of the block is 230 et année is 1920.0 \n",
            "num_records of the block is 254 et année is 1921.0 \n",
            "num_records of the block is 159 et année is 1922.0 \n",
            "num_records of the block is 274 et année is 1923.0 \n",
            "num_records of the block is 202 et année is 1924.0 \n",
            "num_records of the block is 238 et année is 1925.0 \n",
            "num_records of the block is 225 et année is 1926.0 \n",
            "num_records of the block is 171 et année is 1927.0 \n",
            "num_records of the block is 242 et année is 1928.0 \n",
            "num_records of the block is 185 et année is 1929.0 \n",
            "num_records of the block is 201 et année is 1930.0 \n",
            "num_records of the block is 182 et année is 1931.0 \n",
            "num_records of the block is 263 et année is 1932.0 \n",
            "num_records of the block is 223 et année is 1933.0 \n",
            "num_records of the block is 249 et année is 1934.0 \n",
            "num_records of the block is 288 et année is 1935.0 \n",
            "num_records of the block is 182 et année is 1936.0 \n",
            "num_records of the block is 178 et année is 1937.0 \n",
            "num_records of the block is 359 et année is 1938.0 \n",
            "num_records of the block is 227 et année is 1939.0 \n",
            "num_records of the block is 264 et année is 1940.0 \n",
            "num_records of the block is 217 et année is 1941.0 \n",
            "num_records of the block is 206 et année is 1942.0 \n",
            "num_records of the block is 250 et année is 1943.0 \n",
            "num_records of the block is 272 et année is 1944.0 \n",
            "num_records of the block is 192 et année is 1945.0 \n",
            "num_records of the block is 247 et année is 1946.0 \n",
            "num_records of the block is 216 et année is 1947.0 \n",
            "num_records of the block is 270 et année is 1948.0 \n",
            "num_records of the block is 252 et année is 1949.0 \n",
            "num_records of the block is 235 et année is 1950.0 \n",
            "num_records of the block is 277 et année is 1951.0 \n",
            "num_records of the block is 233 et année is 1952.0 \n",
            "num_records of the block is 264 et année is 1953.0 \n",
            "num_records of the block is 167 et année is 1954.0 \n",
            "num_records of the block is 215 et année is 1955.0 \n",
            "num_records of the block is 234 et année is 1956.0 \n",
            "num_records of the block is 225 et année is 1957.0 \n",
            "num_records of the block is 307 et année is 1958.0 \n",
            "num_records of the block is 281 et année is 1959.0 \n",
            "num_records of the block is 176 et année is 1960.0 \n",
            "num_records of the block is 173 et année is 1961.0 \n",
            "num_records of the block is 312 et année is 1962.0 \n",
            "num_records of the block is 188 et année is 1963.0 \n",
            "num_records of the block is 293 et année is 1964.0 \n",
            "num_records of the block is 252 et année is 1965.0 \n",
            "num_records of the block is 210 et année is 1966.0 \n",
            "num_records of the block is 242 et année is 1967.0 \n",
            "num_records of the block is 171 et année is 1968.0 \n",
            "num_records of the block is 241 et année is 1969.0 \n",
            "num_records of the block is 220 et année is 1970.0 \n",
            "num_records of the block is 199 et année is 1971.0 \n",
            "num_records of the block is 249 et année is 1972.0 \n",
            "num_records of the block is 269 et année is 1973.0 \n",
            "num_records of the block is 234 et année is 1974.0 \n",
            "num_records of the block is 163 et année is 1975.0 \n",
            "num_records of the block is 322 et année is 1976.0 \n",
            "num_records of the block is 258 et année is 1977.0 \n",
            "num_records of the block is 184 et année is 1978.0 \n",
            "num_records of the block is 184 et année is 1979.0 \n",
            "num_records of the block is 203 et année is 1980.0 \n",
            "num_records of the block is 214 et année is 1981.0 \n",
            "num_records of the block is 262 et année is 1982.0 \n",
            "num_records of the block is 212 et année is 1983.0 \n",
            "num_records of the block is 302 et année is 1984.0 \n",
            "num_records of the block is 226 et année is 1985.0 \n",
            "num_records of the block is 228 et année is 1986.0 \n",
            "num_records of the block is 243 et année is 1987.0 \n",
            "num_records of the block is 241 et année is 1988.0 \n",
            "num_records of the block is 207 et année is 1989.0 \n",
            "num_records of the block is 187 et année is 1990.0 \n",
            "num_records of the block is 203 et année is 1991.0 \n",
            "num_records of the block is 212 et année is 1992.0 \n",
            "num_records of the block is 206 et année is 1993.0 \n",
            "num_records of the block is 246 et année is 1994.0 \n",
            "num_records of the block is 224 et année is 1995.0 \n",
            "num_records of the block is 276 et année is 1996.0 \n",
            "num_records of the block is 233 et année is 1997.0 \n",
            "num_records of the block is 210 et année is 1998.0 \n",
            "num_records of the block is 236 et année is 1999.0 \n",
            "Number of matches: 56452\n",
            "Processing time: 860.309855163\n"
          ]
        }
      ]
    },
    {
      "cell_type": "code",
      "source": [
        "# Display results \n",
        "#sur 21 485 enregistrements, 56 452 combinaisons possibles de doublons ont été identifiées\n",
        "#l'écart entre les 56K et le nombre d'enregistrement, s'explique par le fait qu'un même enregistrement peut être \n",
        "#comptabilisé par tous les matchs possibles de 'record id' le précédant dans le bloc\n",
        "for match in matches:\n",
        "    print(\"The following records {} and {} match\".format(match[0],match[1]))\n",
        "    print(\"The persons with the following names {} and {} match.\".format(df_prep.loc[df_prep['id record'] == match[0]]['surname'].values[0],df_prep.loc[df_prep['id record'] == match[1]]['surname'].values[0]))\n",
        "    print(\"The persons with the following soc_id {} and {} match.\".format(df_prep.loc[df_prep['id record'] == match[0]]['soc_sec_id'].values[0],df_prep.loc[df_prep['id record'] == match[1]]['soc_sec_id'].values[0]))\n",
        "    print(\"\\n\")"
      ],
      "metadata": {
        "id": "glKHqsYROdYY"
      },
      "id": "glKHqsYROdYY",
      "execution_count": null,
      "outputs": []
    },
    {
      "cell_type": "markdown",
      "source": [
        "partie 2 : détection des doublons sur les lignes qui n'ont pu être analysées dan la 1iere partie et utilisation de Jaccard Distance sur les attributs adress1, address2 et suburb"
      ],
      "metadata": {
        "id": "kHsZ7iuWQq_x"
      },
      "id": "kHsZ7iuWQq_x"
    },
    {
      "cell_type": "code",
      "source": [
        "#suite analyse sur les lignes qui n'ont pas été prises en compte dans la 1iere phase\n",
        "df_prep=df.dropna(subset=['surname']).dropna(subset=['given_name']).dropna(subset=['state']).dropna(subset=['year_of_birth'])\n",
        "\n",
        "#création d'un DF avec les lignes non utilisées précédemment\n",
        "df_etudiants_solde=pd.concat([df,df_prep]).drop_duplicates(keep=False)"
      ],
      "metadata": {
        "id": "O80b3e_f5nSb"
      },
      "id": "O80b3e_f5nSb",
      "execution_count": null,
      "outputs": []
    },
    {
      "cell_type": "code",
      "source": [
        "#contrôle pour s'assurer que l'on retrouve bien le nombre initial d'enregistrements\n",
        "21485+3455 "
      ],
      "metadata": {
        "colab": {
          "base_uri": "https://localhost:8080/"
        },
        "id": "muuwiTveID6L",
        "outputId": "616aa41f-18ec-4e96-abf2-812e34bdd851"
      },
      "id": "muuwiTveID6L",
      "execution_count": null,
      "outputs": [
        {
          "output_type": "execute_result",
          "data": {
            "text/plain": [
              "24940"
            ]
          },
          "metadata": {},
          "execution_count": 34
        }
      ]
    },
    {
      "cell_type": "code",
      "source": [
        "#nombre de ligne que cette partie va vraiement traiter\n",
        "#suite analyse sur les lignes qui n'ont pas été prises en compte dans la 1iere phase\n",
        "df_prep=df_etudiants_solde.dropna(subset=['address_1']).dropna(subset=['address_2']).dropna(subset=['suburb'])\n",
        "\n",
        "#création d'un DF avec les lignes non utilisées précédemment\n",
        "df_etudiants_solde_résidut=pd.concat([df_etudiants_solde,df_prep]).drop_duplicates(keep=False)"
      ],
      "metadata": {
        "id": "IVpPKCN5NBOS"
      },
      "id": "IVpPKCN5NBOS",
      "execution_count": null,
      "outputs": []
    },
    {
      "cell_type": "code",
      "source": [
        "#cette approche permet d'analyse 2714 enregistrements (sur 3455)\n",
        "df_etudiants_solde.count()-df_etudiants_solde_résidut.count()"
      ],
      "metadata": {
        "colab": {
          "base_uri": "https://localhost:8080/"
        },
        "id": "41f9HX6sH3Ba",
        "outputId": "8b212847-314c-4ccf-d7b0-cadb8f84a803"
      },
      "id": "41f9HX6sH3Ba",
      "execution_count": null,
      "outputs": [
        {
          "output_type": "execute_result",
          "data": {
            "text/plain": [
              "group_soc_id     2714\n",
              "given_name       1747\n",
              "surname          2286\n",
              "street_number    2463\n",
              "address_1        2714\n",
              "address_2        2714\n",
              "suburb           2714\n",
              "postcode         2714\n",
              "state            2352\n",
              "date_of_birth    1627\n",
              "soc_sec_id       2714\n",
              "id record        2714\n",
              "year_of_birth    1627\n",
              "dtype: int64"
            ]
          },
          "metadata": {},
          "execution_count": 49
        }
      ]
    },
    {
      "cell_type": "code",
      "source": [
        "#En prévision de la méthode de blocking sur cette partie, nous allons séparer les enregistrements sur la base des soc_id\n",
        "#il est en effet probable (en tout cas constaté sur quelques exemples) que les erreurs de saisie de soc id concernent les unités,dizaines  et non les centaines voire les milliers\n",
        "#cette approche nous permet de maximiser au sein d'un même bloc, les potentiels doublons\n",
        "\n",
        "df_etudiants_solde.insert(0,\"group_soc_id\",(df_etudiants_solde['soc_sec_id']//1e3).astype(int))"
      ],
      "metadata": {
        "id": "jaoW_sba-nwI"
      },
      "id": "jaoW_sba-nwI",
      "execution_count": null,
      "outputs": []
    },
    {
      "cell_type": "code",
      "source": [
        "#et il faut d'abord trier pour assurer le regroupement des potentiels doublons au sein d'un bloc\n",
        "df_etudiants_solde.sort_values(['group_soc_id'],inplace=True,ignore_index=True)"
      ],
      "metadata": {
        "id": "VsHypgZgUm8U"
      },
      "id": "VsHypgZgUm8U",
      "execution_count": null,
      "outputs": []
    },
    {
      "cell_type": "code",
      "source": [
        "#création des blocs sur la base des soc_sec_id \n",
        "#ici on a choisi de faire 20 blocs, pour réduire chaque bloc à une centaine d'enregistrement\n",
        "#c'est un choix arbitraire / 100 nous semblant une taille 'maitrisable'\n",
        "#ce qui permet d'accepter des erreurs de saisie sur les unités et les dizaines\n",
        "k=20\n",
        "num_val_samples = len(df_etudiants_solde) // k \n",
        "blocks_solde=[]\n",
        "\n",
        "for i in range(k):\n",
        "    print('processing fold #', i)\n",
        "    blocks_solde.append(df_etudiants_solde[i * num_val_samples: (i + 1) * num_val_samples]) #slicing \n",
        "blocks_solde.append(df_etudiants_solde[(i+1) * num_val_samples: len(df_etudiants_solde)])"
      ],
      "metadata": {
        "id": "RCn3F1lzSXrs",
        "colab": {
          "base_uri": "https://localhost:8080/"
        },
        "outputId": "c6f86c42-ea41-4228-ac0b-b6d04981f9a9"
      },
      "id": "RCn3F1lzSXrs",
      "execution_count": null,
      "outputs": [
        {
          "output_type": "stream",
          "name": "stdout",
          "text": [
            "processing fold # 0\n",
            "processing fold # 1\n",
            "processing fold # 2\n",
            "processing fold # 3\n",
            "processing fold # 4\n",
            "processing fold # 5\n",
            "processing fold # 6\n",
            "processing fold # 7\n",
            "processing fold # 8\n",
            "processing fold # 9\n",
            "processing fold # 10\n",
            "processing fold # 11\n",
            "processing fold # 12\n",
            "processing fold # 13\n",
            "processing fold # 14\n",
            "processing fold # 15\n",
            "processing fold # 16\n",
            "processing fold # 17\n",
            "processing fold # 18\n",
            "processing fold # 19\n"
          ]
        }
      ]
    },
    {
      "cell_type": "code",
      "source": [
        "#vérification des indices des colonnes\n",
        "df_etudiants_solde.columns"
      ],
      "metadata": {
        "colab": {
          "base_uri": "https://localhost:8080/"
        },
        "id": "p6LqJ1peJPZr",
        "outputId": "39a056e7-c9c1-4c68-aac4-d9b0ca4da9bc"
      },
      "id": "p6LqJ1peJPZr",
      "execution_count": null,
      "outputs": [
        {
          "output_type": "execute_result",
          "data": {
            "text/plain": [
              "Index(['group_soc_id', 'given_name', 'surname', 'street_number', 'address_1',\n",
              "       'address_2', 'suburb', 'postcode', 'state', 'date_of_birth',\n",
              "       'soc_sec_id', 'id record', 'year_of_birth'],\n",
              "      dtype='object')"
            ]
          },
          "metadata": {},
          "execution_count": 38
        }
      ]
    },
    {
      "cell_type": "code",
      "source": [
        "#corps principal de la 2ieme partie \n",
        "#avec recherche de doublon sur 3 critères \n",
        "#toujours edit distance sur postcode et soc sec id\n",
        "#mais jaccard distance sur l'un des trois attributs présents (adress_1,adress_2 ou suburb)\n",
        "#choix d'une distance jaccard de 0.3, mais qui semble donner des bons résultats sur quelques exemples\n",
        "#difficile d'apprécier la pertinence de cette valeur de façon systématique sans matrice de confusion\n",
        "\n",
        "matches_solde = []\n",
        "number_of_matches_solde = 0\n",
        "start = time.process_time()\n",
        "\n",
        "for block in blocks_solde:\n",
        "    num_records = len(block)\n",
        "    print(\"num_records of the block is {} et bloc soc_id is {} \".format(num_records,block.iloc[0,0])) #block soc Id # 0\n",
        "    for i in range(0,num_records):\n",
        "         for j in range(i+1,num_records): \n",
        "            score_postcode=nltk.edit_distance(str(block.iloc[i,7]), str(block.iloc[j,7])) #postcode #7\n",
        "            score_socsecid=nltk.edit_distance(str(block.iloc[i,10]), str(block.iloc[j,10]))  #soc_sec_id #10\n",
        "            try:\n",
        "                score_address1 = nltk.jaccard_distance(set(block.iloc[i,4]),set(block.iloc[j,4]))  #adress1 #4\n",
        "                if (score_postcode <= 2) and (score_socsecid <= 2) and (score_address1 <= 0.3):\n",
        "                    number_of_matches_solde = number_of_matches_solde +1 \n",
        "                    matches_solde.append((block.iloc[i,11],block.iloc[j,11])) #id record #11\n",
        "            except(TypeError):\n",
        "                try:\n",
        "                    score_address2 = nltk.jaccard_distance(set(block.iloc[i,5]),set(block.iloc[j,5]))  #adresse2 #5\n",
        "                    if (score_address2 <= 0.3) and (score_postcode <= 2) and (score_socsecid <= 2):\n",
        "                        number_of_matches_solde = number_of_matches_solde +1 \n",
        "                        matches_solde.append((block.iloc[i,11],block.iloc[j,11]))\n",
        "                except(TypeError):\n",
        "                    try:\n",
        "                        score_suburb = nltk.jaccard_distance(set(block.iloc[i,6]),set(block.iloc[j,6])) #suburb #6\n",
        "                        if (score_suburb <= 2) and (score_postcode <= 2) and (score_socsecid <= 2):\n",
        "                            number_of_matches_solde = number_of_matches_solde +1 \n",
        "                            matches_solde.append((block.iloc[i,11],block.iloc[j,11]))\n",
        "                    except(TypeError):\n",
        "                        pass\n",
        "\n",
        "end = time.process_time()\n",
        "\n",
        "print(\"Number of matches: {}\".format(number_of_matches_solde))\n",
        "print(\"Processing time: {}\".format(end - start))  "
      ],
      "metadata": {
        "id": "RiByPotDSnwD",
        "colab": {
          "base_uri": "https://localhost:8080/"
        },
        "outputId": "40c07bf6-357d-4b0e-823d-2add79789c1a"
      },
      "id": "RiByPotDSnwD",
      "execution_count": null,
      "outputs": [
        {
          "output_type": "stream",
          "name": "stdout",
          "text": [
            "num_records of the block is 172 et bloc soc_id is 1015 \n",
            "num_records of the block is 172 et bloc soc_id is 1525 \n",
            "num_records of the block is 172 et bloc soc_id is 2066 \n",
            "num_records of the block is 172 et bloc soc_id is 2382 \n",
            "num_records of the block is 172 et bloc soc_id is 2866 \n",
            "num_records of the block is 172 et bloc soc_id is 3352 \n",
            "num_records of the block is 172 et bloc soc_id is 3707 \n",
            "num_records of the block is 172 et bloc soc_id is 4169 \n",
            "num_records of the block is 172 et bloc soc_id is 4646 \n",
            "num_records of the block is 172 et bloc soc_id is 5094 \n",
            "num_records of the block is 172 et bloc soc_id is 5540 \n",
            "num_records of the block is 172 et bloc soc_id is 5932 \n",
            "num_records of the block is 172 et bloc soc_id is 6490 \n",
            "num_records of the block is 172 et bloc soc_id is 6972 \n",
            "num_records of the block is 172 et bloc soc_id is 7289 \n",
            "num_records of the block is 172 et bloc soc_id is 7724 \n",
            "num_records of the block is 172 et bloc soc_id is 8217 \n",
            "num_records of the block is 172 et bloc soc_id is 8557 \n",
            "num_records of the block is 172 et bloc soc_id is 9018 \n",
            "num_records of the block is 172 et bloc soc_id is 9508 \n",
            "num_records of the block is 15 et bloc soc_id is 9945 \n",
            "Number of matches: 8196\n",
            "Processing time: 87.94979871100008\n"
          ]
        }
      ]
    },
    {
      "cell_type": "code",
      "source": [
        "# Display results \n",
        "#sur 2 714 enregistrements, 8 196 combinaisons possibles de doublons ont été identifiées\n",
        "for match in matches_solde:\n",
        "    print(\"The following records {} and {} match\".format(match[0],match[1]))\n",
        "    print(\"The persons with the following names {} and {} match.\".format(df_etudiants_solde.loc[df_etudiants_solde['id record'] == match[0]]['surname'].values[0],df_etudiants_solde.loc[df_etudiants_solde['id record'] == match[1]]['surname'].values[0]))\n",
        "    print(\"The persons with the following soc_id {} and {} match.\".format(df_etudiants_solde.loc[df_etudiants_solde['id record'] == match[0]]['soc_sec_id'].values[0],df_etudiants_solde.loc[df_etudiants_solde['id record'] == match[1]]['soc_sec_id'].values[0]))\n",
        "    print(\"\\n\")"
      ],
      "metadata": {
        "id": "NOcwqKFdS3nZ"
      },
      "id": "NOcwqKFdS3nZ",
      "execution_count": null,
      "outputs": []
    },
    {
      "cell_type": "code",
      "source": [
        "#dernière partie concatenation des deux listes matches et matches_solde \n",
        "resultat_modele_1=matches+matches_solde\n"
      ],
      "metadata": {
        "id": "hL_VeWM4St-g"
      },
      "id": "hL_VeWM4St-g",
      "execution_count": null,
      "outputs": []
    },
    {
      "cell_type": "markdown",
      "source": [
        "### Model 2: basé sur numéro de sécurité sociale comme méthode de blocage\n",
        "\n",
        "Nous testerons également un deuxième modèle qui présente les caractéristiques suivantes :\n",
        "- une méthode de blocage basée sur le numéro de sécurité sociale\n",
        "- un algorithme de détection des doublons en 4 parties:\n",
        "  \n",
        "  1. Si le prénom et le nom existent, on applique une condition sur la valeur de l'edit distance du nom, prénom et numéro de sécurité sociale;\n",
        "  2. Si le prénom n'existe pas mais le nom existe, on applique une condition valeur de l'edit distance du nom et même numéro de sécurité sociale et année de naissance;\n",
        "  3. Si le prénom existe mais le nom n'existent pas, on applique une condition sur le fait d'avoir le meme prénom, numéro de sécurité sociale et année de naissance \n",
        "  4. Si ni le prénom ni le nom n'existent pas, on applique une condition sur le fait d'avoir le meme numéro de sécurité sociale, date de naissance et code postal\n",
        "\n",
        "  Les conditions sont d'autant plus strictes que le nombre d'arguments est nul, afin d'éviter les faux positifs."
      ],
      "metadata": {
        "id": "FulRHX94_Nv_"
      },
      "id": "FulRHX94_Nv_"
    },
    {
      "cell_type": "code",
      "source": [
        "# Création d'une liste de chiffres pour créer des intervalles afin de decouper la base de données en blocs\n",
        "list_soc_num_range = []\n",
        "list_soc_num_range = [i for i in range(1_000_000,10_010_000, 10_000)]\n",
        "print(len(list_soc_num_range))\n",
        "print(min(list_soc_num_range))\n",
        "print(max(list_soc_num_range))"
      ],
      "metadata": {
        "id": "oJbi4Y2CIIO3",
        "colab": {
          "base_uri": "https://localhost:8080/"
        },
        "outputId": "b7a5e39d-e882-4f96-c02e-ca6e0b9b0067"
      },
      "id": "oJbi4Y2CIIO3",
      "execution_count": null,
      "outputs": [
        {
          "output_type": "stream",
          "name": "stdout",
          "text": [
            "901\n",
            "1000000\n",
            "10000000\n"
          ]
        }
      ]
    },
    {
      "cell_type": "code",
      "source": [
        "# Création de la liste de blocs\n",
        "# Ce decoupage permettra de regrouper les numéros de sécurité sociale dont les 3 premiers chiffres sont identiques \n",
        "blocks_soc_sec = []\n",
        "for i in range(0, len(list_soc_num_range)-1):\n",
        "  block = df[((df['soc_sec_id'] >= list_soc_num_range[i]) & (df['soc_sec_id'] < list_soc_num_range[i+1]))]\n",
        "  blocks_soc_sec.append(block)\n",
        "# Vérifier le numero de blocs\n",
        "print(\"Numero de blocs:\")\n",
        "print(len(blocks_soc_sec))\n",
        "# Exemple d'intervalle de numéros de sécurité sociale dans le même bloc (meme trois premiers chiffres)\n",
        "print(\"Exemple d'intervalle de numéros de sécurité sociale dans le même bloc:\")\n",
        "print(min(blocks_soc_sec[5]['soc_sec_id']))\n",
        "print(max(blocks_soc_sec[5]['soc_sec_id']))"
      ],
      "metadata": {
        "colab": {
          "base_uri": "https://localhost:8080/"
        },
        "id": "suvzZjXmIIsP",
        "outputId": "4c0597fd-592e-4bc3-8a1e-eaaf6782febf"
      },
      "id": "suvzZjXmIIsP",
      "execution_count": null,
      "outputs": [
        {
          "output_type": "stream",
          "name": "stdout",
          "text": [
            "Numero de blocs:\n",
            "900\n",
            "Exemple d'intervalle de numéros de sécurité sociale dans le même bloc:\n",
            "1050753\n",
            "1057227\n"
          ]
        }
      ]
    },
    {
      "cell_type": "code",
      "source": [
        "# Vérifier que l'ensemble de bloc constitue le dataframe entier\n",
        "count_test = 0\n",
        "for block in blocks_soc_sec:\n",
        "  count_test += len(block)\n",
        "print(count_test)"
      ],
      "metadata": {
        "colab": {
          "base_uri": "https://localhost:8080/"
        },
        "id": "WAl_WmTwzFKc",
        "outputId": "a55f142a-f83e-4138-e35d-b3133358c51b"
      },
      "id": "WAl_WmTwzFKc",
      "execution_count": null,
      "outputs": [
        {
          "output_type": "stream",
          "name": "stdout",
          "text": [
            "24940\n"
          ]
        }
      ]
    },
    {
      "cell_type": "code",
      "source": [
        "# Vérifier la longueur de chaque bloc\n",
        "block_len_list = []\n",
        "for i in blocks_soc_sec:\n",
        "  block_len_list.append(len(i))\n",
        "print(min(block_len_list))\n",
        "print(max(block_len_list))\n",
        "# => Il y a des blocs vides"
      ],
      "metadata": {
        "id": "8-8J0_HYKbjh",
        "colab": {
          "base_uri": "https://localhost:8080/"
        },
        "outputId": "50d844b3-b0c9-40e9-c537-44c2dd05dd23"
      },
      "id": "8-8J0_HYKbjh",
      "execution_count": null,
      "outputs": [
        {
          "output_type": "stream",
          "name": "stdout",
          "text": [
            "0\n",
            "85\n"
          ]
        }
      ]
    },
    {
      "cell_type": "code",
      "source": [
        "# Vérifier les indices des blocs vides\n",
        "list_index_empty_block = []\n",
        "for i in range(0, len(blocks_soc_sec)):\n",
        "  if len(blocks_soc_sec[i]) <= 1:\n",
        "    list_index_empty_block.append(i)\n",
        "print(list_index_empty_block)\n",
        "print(f'Numero de blocs vides: {len(list_index_empty_block)}')\n",
        "# => Nous devrons traiter le cas des blocs vides dans notre algorithme"
      ],
      "metadata": {
        "id": "dR8ftyqiKtQv",
        "colab": {
          "base_uri": "https://localhost:8080/"
        },
        "outputId": "23986b7e-e7a0-472c-9ca0-b4fc14818b5f"
      },
      "id": "dR8ftyqiKtQv",
      "execution_count": null,
      "outputs": [
        {
          "output_type": "stream",
          "name": "stdout",
          "text": [
            "[188, 404, 660]\n",
            "Numero de blocs vides: 3\n"
          ]
        }
      ]
    },
    {
      "cell_type": "code",
      "source": [
        "# Vérifier le comportement de la comparaison booléenne lorsque j'ai deux valeurs nulles pour l'année de naissance\n",
        "year_null_1 = df[df['year_of_birth'].isnull()]['date_of_birth'][23] \n",
        "year_null_2 = df[df['year_of_birth'].isnull()]['date_of_birth'][30] \n",
        "print(f'Le resultat de {year_null_1} == {year_null_2 } est {year_null_1 == year_null_2 }')"
      ],
      "metadata": {
        "colab": {
          "base_uri": "https://localhost:8080/"
        },
        "id": "_dSNwIurTnup",
        "outputId": "e937057f-6a0c-4951-c177-984e35115ac2"
      },
      "id": "_dSNwIurTnup",
      "execution_count": null,
      "outputs": [
        {
          "output_type": "stream",
          "name": "stdout",
          "text": [
            "Le resultat de NaT == NaT est False\n"
          ]
        }
      ]
    },
    {
      "cell_type": "code",
      "source": [
        "matches_2 = []\n",
        "number_of_matches_2 = 0\n",
        "start_2 = time.process_time()\n",
        "\n",
        "for block in blocks_soc_sec:\n",
        "  if len(block) > 1: # Je souhaite traiter uniquement les blocs contenant au moins 2 enregistrements\n",
        "\n",
        "    num_records = len(block)\n",
        "    for i in range(0, num_records):\n",
        "        for j in range(i+1, num_records):\n",
        "\n",
        "            # (1) Si le prenom (index 0) et le nom (index 1) existent:\n",
        "            if pd.notnull(block.iloc[i,0]) and pd.notnull(block.iloc[j,0]) and pd.notnull(block.iloc[i,1]) and pd.notnull(block.iloc[j,1]):\n",
        "                # Calcul de l'edit distance du nom, prénom et numéro de sécurité sociale (index 9)\n",
        "                name_score = nltk.edit_distance(block.iloc[i,0], block.iloc[j,0])\n",
        "                surname_score = nltk.edit_distance(block.iloc[i,1], block.iloc[j,1])\n",
        "                soc_sec_score = nltk.edit_distance(str(block.iloc[i,9]), str(block.iloc[j,9]))\n",
        "                # Condition sur la valeur de l'edit distance du nom, prénom et numéro de sécurité sociale\n",
        "                # Si la condition de score est remplie, le nombre de correspondances est incrémenté d'une unité et l’enregistrement est ajoutée a la variable matches_2\n",
        "                if (name_score <= 2) and (surname_score <= 2) and (soc_sec_score <= 2):\n",
        "                    number_of_matches_2 = number_of_matches_2 + 1 \n",
        "                    matches_2.append((block.iloc[i,10],block.iloc[j,10])) #10 is the index for 'id record'\n",
        "\n",
        "            # (2) Si le prenom (index 0) n'existe pas et le nom (index 1) existe:\n",
        "            elif pd.isnull(block.iloc[i,0]) and pd.isnull(block.iloc[j,0]) and pd.notnull(block.iloc[i,1]) and pd.notnull(block.iloc[j,1]):\n",
        "                # Calcul de l'edit distance du nom\n",
        "                surname_score = nltk.edit_distance(block.iloc[i,1], block.iloc[j,1])\n",
        "                # Condition sur la valeur de l'edit distance du nom, meme numéro de sécurité sociale et meme année de naissance \n",
        "                if (surname_score <= 2) and (block.iloc[i,9] == block.iloc[j,9]) and (block.iloc[i,11] == block.iloc[j,11]):\n",
        "                    number_of_matches_2 = number_of_matches_2 + 1 \n",
        "                    matches_2.append((block.iloc[i,10],block.iloc[j,10])) \n",
        "\n",
        "            # (3) Si le prenom (index 0) existe et le nom (index 1) n'existe pas:\n",
        "            elif pd.notnull(block.iloc[i,0]) and pd.notnull(block.iloc[j,0]) and pd.isnull(block.iloc[i,1]) and pd.isnull(block.iloc[j,1]):\n",
        "                # Condition sur le fait d'avoir le meme prénom, numéro de sécurité sociale et année de naissance \n",
        "                if (block.iloc[i,0] == block.iloc[j,0]) and (block.iloc[i,9] == block.iloc[j,9]) and (block.iloc[i,11] == block.iloc[j,11]) :\n",
        "                    number_of_matches_2 = number_of_matches_2 + 1 \n",
        "                    matches_2.append((block.iloc[i,10],block.iloc[j,10])) \n",
        "\n",
        "            # (4) Si prenom (index 0) et nom (index 1) n'existe pas:\n",
        "            elif pd.isnull(block.iloc[i,0]) and pd.isnull(block.iloc[j,0]) and pd.isnull(block.iloc[i,1]) and pd.isnull(block.iloc[j,1]):\n",
        "                # Condition sur le fait d'avoir le meme numéro de sécurité sociale, date de naissance et code postal\n",
        "                if (block.iloc[i,9] == block.iloc[j,9]) and (block.iloc[i,8] == block.iloc[j,8]) and (block.iloc[i,6] == block.iloc[j,6]):\n",
        "                  number_of_matches_2 = number_of_matches_2 + 1 \n",
        "                  matches_2.append((block.iloc[i,10],block.iloc[j,10])) \n",
        "\n",
        "\n",
        "end_2 = time.process_time()\n",
        "print(\"Number of matches: {}\".format(number_of_matches_2))\n",
        "print(\"Processing time (s): {}\".format(end_2 - start_2))  "
      ],
      "metadata": {
        "id": "CCDGEi1oIJCk",
        "colab": {
          "base_uri": "https://localhost:8080/"
        },
        "outputId": "345b1f4f-730f-4169-d6f5-06e0b0d31074"
      },
      "id": "CCDGEi1oIJCk",
      "execution_count": null,
      "outputs": [
        {
          "output_type": "stream",
          "name": "stdout",
          "text": [
            "Number of matches: 59490\n",
            "Processing time (s): 129.108988889\n"
          ]
        }
      ]
    },
    {
      "cell_type": "code",
      "source": [
        "# Montrer quelques exemples de correspondances\n",
        "for match in matches_2[:10]:\n",
        "    print(\"The following records {} and {} match\".format(match[0],match[1]))\n",
        "    print(\"The persons with the following surnames {} and {} match.\".format(df.loc[df['id record'] == match[0]]['surname'].values[0],df.loc[df['id record'] == match[1]]['surname'].values[0]))\n",
        "    print(\"The persons with the following date of birth {} and {} match.\".format(df.loc[df['id record'] == match[0]]['date_of_birth'].values[0],df.loc[df['id record'] == match[1]]['date_of_birth'].values[0]))\n",
        "    print(\"The persons with the following soc_id {} and {} match.\".format(df.loc[df['id record'] == match[0]]['soc_sec_id'].values[0],df.loc[df['id record'] == match[1]]['soc_sec_id'].values[0]))\n",
        "    print(\"\\n\")"
      ],
      "metadata": {
        "id": "3QE440a_KKDB",
        "colab": {
          "base_uri": "https://localhost:8080/"
        },
        "outputId": "b2261113-c341-451a-f1cb-e0ad6b3a27cd"
      },
      "id": "3QE440a_KKDB",
      "execution_count": null,
      "outputs": [
        {
          "output_type": "stream",
          "name": "stdout",
          "text": [
            "The following records B_351 and B_3116 match\n",
            "The persons with the following surnames clarke and clarke match.\n",
            "The persons with the following date of birth 1963-07-30 and 1963-07-30 match.\n",
            "The persons with the following soc_id 1009287 and 1009287 match.\n",
            "\n",
            "\n",
            "The following records B_351 and B_11630 match\n",
            "The persons with the following surnames clarke and clarke match.\n",
            "The persons with the following date of birth 1963-07-30 and 1963-07-30 match.\n",
            "The persons with the following soc_id 1009287 and 1009287 match.\n",
            "\n",
            "\n",
            "The following records B_351 and B_18713 match\n",
            "The persons with the following surnames clarke and clarke match.\n",
            "The persons with the following date of birth 1963-07-30 and 1963-07-30 match.\n",
            "The persons with the following soc_id 1009287 and 1009287 match.\n",
            "\n",
            "\n",
            "The following records B_351 and B_19027 match\n",
            "The persons with the following surnames clarke and clarke match.\n",
            "The persons with the following date of birth 1963-07-30 and 1963-07-30 match.\n",
            "The persons with the following soc_id 1009287 and 1009287 match.\n",
            "\n",
            "\n",
            "The following records B_351 and B_19741 match\n",
            "The persons with the following surnames clarke and clarke match.\n",
            "The persons with the following date of birth 1963-07-30 and 1963-07-30 match.\n",
            "The persons with the following soc_id 1009287 and 1009287 match.\n",
            "\n",
            "\n",
            "The following records B_1322 and B_5397 match\n",
            "The persons with the following surnames choi-lundberg and choi-lundberg match.\n",
            "The persons with the following date of birth 1938-09-03 and 1938-09-03 match.\n",
            "The persons with the following soc_id 1002096 and 1002096 match.\n",
            "\n",
            "\n",
            "The following records B_1322 and B_7732 match\n",
            "The persons with the following surnames choi-lundberg and choi-lundberg match.\n",
            "The persons with the following date of birth 1938-09-03 and 1938-09-03 match.\n",
            "The persons with the following soc_id 1002096 and 1002096 match.\n",
            "\n",
            "\n",
            "The following records B_2671 and B_4387 match\n",
            "The persons with the following surnames morrison and morrison match.\n",
            "The persons with the following date of birth 1948-08-22 and 1948-08-22 match.\n",
            "The persons with the following soc_id 1000754 and 1000754 match.\n",
            "\n",
            "\n",
            "The following records B_2671 and B_7424 match\n",
            "The persons with the following surnames morrison and morriso match.\n",
            "The persons with the following date of birth 1948-08-22 and 1948-08-22 match.\n",
            "The persons with the following soc_id 1000754 and 1000754 match.\n",
            "\n",
            "\n",
            "The following records B_3116 and B_11630 match\n",
            "The persons with the following surnames clarke and clarke match.\n",
            "The persons with the following date of birth 1963-07-30 and 1963-07-30 match.\n",
            "The persons with the following soc_id 1009287 and 1009287 match.\n",
            "\n",
            "\n"
          ]
        }
      ]
    },
    {
      "cell_type": "markdown",
      "source": [
        "\n",
        "## Conclusion"
      ],
      "metadata": {
        "id": "wLxrTtjnAEhU"
      },
      "id": "wLxrTtjnAEhU"
    },
    {
      "cell_type": "markdown",
      "source": [
        "En conclusion, nous avons développé 2 méthodes, avec deux attributs différents pour la définition du blocage : une approche hybride basée principalement sur l'année (méthode 1) et une approche exclusivement basée sur le numéro de sécurité sociale (méthode 2).\n",
        "\n",
        "Concernant **la méthode 1**:\n",
        "- celle-ci a permis de traiter 24 199  (21 485 + 2714) enregistrements sur les 24 940 soit 97%; ce qui est un beau score compte-tenu du nombre d'enregistrements contenant au moins une cellule nulle (~1/3). \n",
        "- Cette méthode indique avoir trouvé 64 648 (56 452 + 8 196) pairs d'ID Record correspondant à des duplicates (à travers un mix d'edit distance et jaccard distance). \n",
        "Malheureusement il n'y a pas de méthode systèmatique pour évaluer la justesse de cette méthode.\n",
        "- Le temps d'exécution de la première partie a été de 860 sc (en mode GPU sous Google Colab) et de 88 sc sur la 2ieme partie. Clairement le choix de maximiser le nombre de lignes à analyser à impacter le temps d'exécution.\n",
        "- l'utilisation des exceptions combinée à l'utilisation de edit distance ou jaccard distance selon le type d'attribut nous a permis d'utiliser tous les attributs à l'exception du numéro de l'adresse. Nous avons choisi de ne pas l'utiliser,  car cet attribut nous semblait particulièrement peu fiable et sans disposer d'une métric adaptée pour comparer deux chiffres (comment mesurer la distance entre 0 et 8 plutôt qu'entre 0 et 5 ?).\n",
        "\n",
        "Concernant **la méthode 2**:\n",
        "- celle-ci a permis de traiter tous les enregistrements à l'exception des cas où l'année n'est pas renseignée (soit 1008 enregistrements) ;\n",
        "- Cette méthode indique avoir trouvé 59 490 pairs d'ID Record correspondant à des duplicates (à travers un mix d'edit distance et d'égalités). \n",
        "- Le temps d'exécution a été de 129 secondes (en mode GPU sous Google Colab).\n",
        "\n",
        "En comparant les deux méthodes, les deux méthodes s'approchent des 97% d'enregistrements traités, mais la première est  nettement moins rapide... \n",
        "\n",
        "Concernant l'efficacité à trouver les doublons,malheureusement il n'y a pas de méthode systèmatique pour évaluer la justesse d'une méthode par rapport à une autre afin par example comparer la précision et la pourcentage de faux positifs, faute d'avoir trouvé d'attribut précis qui corresponde à cet objectif (mais c'est probablement un cas courant dans des situations opérationnelles)."
      ],
      "metadata": {
        "id": "-Uao9nX5M0b1"
      },
      "id": "-Uao9nX5M0b1"
    }
  ],
  "metadata": {
    "kernelspec": {
      "display_name": "Python 3 (ipykernel)",
      "language": "python",
      "name": "python3"
    },
    "language_info": {
      "codemirror_mode": {
        "name": "ipython",
        "version": 3
      },
      "file_extension": ".py",
      "mimetype": "text/x-python",
      "name": "python",
      "nbconvert_exporter": "python",
      "pygments_lexer": "ipython3",
      "version": "3.9.13"
    },
    "toc": {
      "base_numbering": 1,
      "nav_menu": {},
      "number_sections": true,
      "sideBar": true,
      "skip_h1_title": false,
      "title_cell": "Table of Contents",
      "title_sidebar": "Contents",
      "toc_cell": false,
      "toc_position": {
        "height": "calc(100% - 180px)",
        "left": "10px",
        "top": "150px",
        "width": "210.875px"
      },
      "toc_section_display": true,
      "toc_window_display": true
    },
    "colab": {
      "provenance": [],
      "toc_visible": true
    },
    "accelerator": "GPU",
    "gpuClass": "standard"
  },
  "nbformat": 4,
  "nbformat_minor": 5
}